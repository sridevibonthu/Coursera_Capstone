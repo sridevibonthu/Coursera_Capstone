{
  "nbformat": 4,
  "nbformat_minor": 0,
  "metadata": {
    "colab": {
      "name": "week5.ipynb",
      "provenance": [],
      "collapsed_sections": [],
      "authorship_tag": "ABX9TyPHUnpnKCFBoGLQ1QPjiuts",
      "include_colab_link": true
    },
    "kernelspec": {
      "name": "python3",
      "display_name": "Python 3"
    }
  },
  "cells": [
    {
      "cell_type": "markdown",
      "metadata": {
        "id": "view-in-github",
        "colab_type": "text"
      },
      "source": [
        "<a href=\"https://colab.research.google.com/github/sridevibonthu/Coursera_Capstone/blob/master/week5.ipynb\" target=\"_parent\"><img src=\"https://colab.research.google.com/assets/colab-badge.svg\" alt=\"Open In Colab\"/></a>"
      ]
    },
    {
      "cell_type": "markdown",
      "metadata": {
        "id": "hF69ISfMjJdi",
        "colab_type": "text"
      },
      "source": [
        "Project : Finding optimal location to open the Restaurant"
      ]
    },
    {
      "cell_type": "markdown",
      "metadata": {
        "id": "EmjQxx_WjUZk",
        "colab_type": "text"
      },
      "source": [
        "import libraries"
      ]
    },
    {
      "cell_type": "code",
      "metadata": {
        "id": "qQ3xgaoHjIXi",
        "colab_type": "code",
        "colab": {}
      },
      "source": [
        "#importing necessary libraries\n",
        "import requests\n",
        "import pandas as pd\n",
        "import folium\n",
        "from sklearn.cluster import KMeans"
      ],
      "execution_count": 34,
      "outputs": []
    },
    {
      "cell_type": "code",
      "metadata": {
        "id": "82iYr4nQjTgY",
        "colab_type": "code",
        "colab": {
          "base_uri": "https://localhost:8080/",
          "height": 35
        },
        "outputId": "9cd2149d-4e23-470b-abb4-0c1b896fda6c"
      },
      "source": [
        "#scrapping neighborhoods in Canada\n",
        "url  = \"https://en.wikipedia.org/wiki/List_of_postal_codes_of_Canada:_M\"\n",
        "page = requests.get(url)\n",
        "if page.status_code == 200:\n",
        "    print('Page download successful')\n",
        "else:\n",
        "    print('Page download error. Error code: {}'.format(page.status_code))"
      ],
      "execution_count": 2,
      "outputs": [
        {
          "output_type": "stream",
          "text": [
            "Page download successful\n"
          ],
          "name": "stdout"
        }
      ]
    },
    {
      "cell_type": "code",
      "metadata": {
        "id": "owB3as28jYWd",
        "colab_type": "code",
        "colab": {
          "base_uri": "https://localhost:8080/",
          "height": 198
        },
        "outputId": "544a3135-99dc-453b-8a3d-93c98ed605eb"
      },
      "source": [
        "\n",
        "df_html = pd.read_html(url, header=0, na_values = ['Not assigned'])[0]\n",
        "df_html.head()"
      ],
      "execution_count": 3,
      "outputs": [
        {
          "output_type": "execute_result",
          "data": {
            "text/html": [
              "<div>\n",
              "<style scoped>\n",
              "    .dataframe tbody tr th:only-of-type {\n",
              "        vertical-align: middle;\n",
              "    }\n",
              "\n",
              "    .dataframe tbody tr th {\n",
              "        vertical-align: top;\n",
              "    }\n",
              "\n",
              "    .dataframe thead th {\n",
              "        text-align: right;\n",
              "    }\n",
              "</style>\n",
              "<table border=\"1\" class=\"dataframe\">\n",
              "  <thead>\n",
              "    <tr style=\"text-align: right;\">\n",
              "      <th></th>\n",
              "      <th>Postal Code</th>\n",
              "      <th>Borough</th>\n",
              "      <th>Neighborhood</th>\n",
              "    </tr>\n",
              "  </thead>\n",
              "  <tbody>\n",
              "    <tr>\n",
              "      <th>0</th>\n",
              "      <td>M1A</td>\n",
              "      <td>NaN</td>\n",
              "      <td>NaN</td>\n",
              "    </tr>\n",
              "    <tr>\n",
              "      <th>1</th>\n",
              "      <td>M2A</td>\n",
              "      <td>NaN</td>\n",
              "      <td>NaN</td>\n",
              "    </tr>\n",
              "    <tr>\n",
              "      <th>2</th>\n",
              "      <td>M3A</td>\n",
              "      <td>North York</td>\n",
              "      <td>Parkwoods</td>\n",
              "    </tr>\n",
              "    <tr>\n",
              "      <th>3</th>\n",
              "      <td>M4A</td>\n",
              "      <td>North York</td>\n",
              "      <td>Victoria Village</td>\n",
              "    </tr>\n",
              "    <tr>\n",
              "      <th>4</th>\n",
              "      <td>M5A</td>\n",
              "      <td>Downtown Toronto</td>\n",
              "      <td>Regent Park, Harbourfront</td>\n",
              "    </tr>\n",
              "  </tbody>\n",
              "</table>\n",
              "</div>"
            ],
            "text/plain": [
              "  Postal Code           Borough               Neighborhood\n",
              "0         M1A               NaN                        NaN\n",
              "1         M2A               NaN                        NaN\n",
              "2         M3A        North York                  Parkwoods\n",
              "3         M4A        North York           Victoria Village\n",
              "4         M5A  Downtown Toronto  Regent Park, Harbourfront"
            ]
          },
          "metadata": {
            "tags": []
          },
          "execution_count": 3
        }
      ]
    },
    {
      "cell_type": "code",
      "metadata": {
        "id": "m6Jqo2CZjbKv",
        "colab_type": "code",
        "colab": {}
      },
      "source": [
        "#Drop the the rows on which the Borough is empty\n",
        "df_html.dropna(subset=['Borough'], inplace=True)"
      ],
      "execution_count": 6,
      "outputs": []
    },
    {
      "cell_type": "code",
      "metadata": {
        "id": "UxEUb7fjjf_B",
        "colab_type": "code",
        "colab": {
          "base_uri": "https://localhost:8080/",
          "height": 35
        },
        "outputId": "68415dd9-e82e-40f3-9649-ca40749dfe01"
      },
      "source": [
        "#Check Neighborhood is empty but Borough exists\n",
        "n_empty_neighborhood = df_html[df_html['Neighborhood'].isna()].shape[0]\n",
        "print('Number of rows on which Neighborhood column is empty: {}'.format(n_empty_neighborhood))"
      ],
      "execution_count": 8,
      "outputs": [
        {
          "output_type": "stream",
          "text": [
            "Number of rows on which Neighborhood column is empty: 0\n"
          ],
          "name": "stdout"
        }
      ]
    },
    {
      "cell_type": "code",
      "metadata": {
        "id": "NLPWvctAjjQS",
        "colab_type": "code",
        "colab": {
          "base_uri": "https://localhost:8080/",
          "height": 48
        },
        "outputId": "891f7010-a75b-4d84-8688-17941241ebff"
      },
      "source": [
        "#Show which neighborhood is emtpy but Borough exists\n",
        "df_html[df_html['Neighborhood'].isna()]"
      ],
      "execution_count": 10,
      "outputs": [
        {
          "output_type": "execute_result",
          "data": {
            "text/html": [
              "<div>\n",
              "<style scoped>\n",
              "    .dataframe tbody tr th:only-of-type {\n",
              "        vertical-align: middle;\n",
              "    }\n",
              "\n",
              "    .dataframe tbody tr th {\n",
              "        vertical-align: top;\n",
              "    }\n",
              "\n",
              "    .dataframe thead th {\n",
              "        text-align: right;\n",
              "    }\n",
              "</style>\n",
              "<table border=\"1\" class=\"dataframe\">\n",
              "  <thead>\n",
              "    <tr style=\"text-align: right;\">\n",
              "      <th></th>\n",
              "      <th>Postal Code</th>\n",
              "      <th>Borough</th>\n",
              "      <th>Neighborhood</th>\n",
              "    </tr>\n",
              "  </thead>\n",
              "  <tbody>\n",
              "  </tbody>\n",
              "</table>\n",
              "</div>"
            ],
            "text/plain": [
              "Empty DataFrame\n",
              "Columns: [Postal Code, Borough, Neighborhood]\n",
              "Index: []"
            ]
          },
          "metadata": {
            "tags": []
          },
          "execution_count": 10
        }
      ]
    },
    {
      "cell_type": "code",
      "metadata": {
        "id": "h_OOTQOkj1qc",
        "colab_type": "code",
        "colab": {
          "base_uri": "https://localhost:8080/",
          "height": 48
        },
        "outputId": "f5b5dd01-d399-46b5-d427-2be7a82ef5c2"
      },
      "source": [
        "#Confirm that Queen's Park Neighborhood is not empty now:\n",
        "df_html[df_html['Borough']==\"Queen's Park\"]"
      ],
      "execution_count": 11,
      "outputs": [
        {
          "output_type": "execute_result",
          "data": {
            "text/html": [
              "<div>\n",
              "<style scoped>\n",
              "    .dataframe tbody tr th:only-of-type {\n",
              "        vertical-align: middle;\n",
              "    }\n",
              "\n",
              "    .dataframe tbody tr th {\n",
              "        vertical-align: top;\n",
              "    }\n",
              "\n",
              "    .dataframe thead th {\n",
              "        text-align: right;\n",
              "    }\n",
              "</style>\n",
              "<table border=\"1\" class=\"dataframe\">\n",
              "  <thead>\n",
              "    <tr style=\"text-align: right;\">\n",
              "      <th></th>\n",
              "      <th>Postal Code</th>\n",
              "      <th>Borough</th>\n",
              "      <th>Neighborhood</th>\n",
              "    </tr>\n",
              "  </thead>\n",
              "  <tbody>\n",
              "  </tbody>\n",
              "</table>\n",
              "</div>"
            ],
            "text/plain": [
              "Empty DataFrame\n",
              "Columns: [Postal Code, Borough, Neighborhood]\n",
              "Index: []"
            ]
          },
          "metadata": {
            "tags": []
          },
          "execution_count": 11
        }
      ]
    },
    {
      "cell_type": "code",
      "metadata": {
        "id": "fFi5PkxxkBiu",
        "colab_type": "code",
        "colab": {
          "base_uri": "https://localhost:8080/",
          "height": 198
        },
        "outputId": "f5c99491-7043-4ea5-c433-324d344a2c48"
      },
      "source": [
        "#Group by Postcode / Borough\n",
        "df_postcodes = df_html.groupby(['Postal Code','Borough']).Neighborhood.agg([('Neighbourhood', ', '.join)])\n",
        "df_postcodes.reset_index(inplace=True)\n",
        "df_postcodes.head(5)"
      ],
      "execution_count": 15,
      "outputs": [
        {
          "output_type": "execute_result",
          "data": {
            "text/html": [
              "<div>\n",
              "<style scoped>\n",
              "    .dataframe tbody tr th:only-of-type {\n",
              "        vertical-align: middle;\n",
              "    }\n",
              "\n",
              "    .dataframe tbody tr th {\n",
              "        vertical-align: top;\n",
              "    }\n",
              "\n",
              "    .dataframe thead th {\n",
              "        text-align: right;\n",
              "    }\n",
              "</style>\n",
              "<table border=\"1\" class=\"dataframe\">\n",
              "  <thead>\n",
              "    <tr style=\"text-align: right;\">\n",
              "      <th></th>\n",
              "      <th>Postal Code</th>\n",
              "      <th>Borough</th>\n",
              "      <th>Neighbourhood</th>\n",
              "    </tr>\n",
              "  </thead>\n",
              "  <tbody>\n",
              "    <tr>\n",
              "      <th>0</th>\n",
              "      <td>M1B</td>\n",
              "      <td>Scarborough</td>\n",
              "      <td>Malvern, Rouge</td>\n",
              "    </tr>\n",
              "    <tr>\n",
              "      <th>1</th>\n",
              "      <td>M1C</td>\n",
              "      <td>Scarborough</td>\n",
              "      <td>Rouge Hill, Port Union, Highland Creek</td>\n",
              "    </tr>\n",
              "    <tr>\n",
              "      <th>2</th>\n",
              "      <td>M1E</td>\n",
              "      <td>Scarborough</td>\n",
              "      <td>Guildwood, Morningside, West Hill</td>\n",
              "    </tr>\n",
              "    <tr>\n",
              "      <th>3</th>\n",
              "      <td>M1G</td>\n",
              "      <td>Scarborough</td>\n",
              "      <td>Woburn</td>\n",
              "    </tr>\n",
              "    <tr>\n",
              "      <th>4</th>\n",
              "      <td>M1H</td>\n",
              "      <td>Scarborough</td>\n",
              "      <td>Cedarbrae</td>\n",
              "    </tr>\n",
              "  </tbody>\n",
              "</table>\n",
              "</div>"
            ],
            "text/plain": [
              "  Postal Code      Borough                           Neighbourhood\n",
              "0         M1B  Scarborough                          Malvern, Rouge\n",
              "1         M1C  Scarborough  Rouge Hill, Port Union, Highland Creek\n",
              "2         M1E  Scarborough       Guildwood, Morningside, West Hill\n",
              "3         M1G  Scarborough                                  Woburn\n",
              "4         M1H  Scarborough                               Cedarbrae"
            ]
          },
          "metadata": {
            "tags": []
          },
          "execution_count": 15
        }
      ]
    },
    {
      "cell_type": "code",
      "metadata": {
        "id": "KtTV8OLHkFhU",
        "colab_type": "code",
        "colab": {}
      },
      "source": [
        "#Drop the the rows on which the Borough is empty\n",
        "df_html.dropna(subset=['Borough'], inplace=True)"
      ],
      "execution_count": 16,
      "outputs": []
    },
    {
      "cell_type": "code",
      "metadata": {
        "id": "-vUf_4lQkRuZ",
        "colab_type": "code",
        "colab": {
          "base_uri": "https://localhost:8080/",
          "height": 35
        },
        "outputId": "6ac0efa8-df1d-4420-d839-60d92e41646f"
      },
      "source": [
        "#Check Neighborhood is empty but Borough exists\n",
        "n_empty_neighborhood = df_html[df_html['Neighborhood'].isna()].shape[0]\n",
        "print('Number of rows on which Neighborhood column is empty: {}'.format(n_empty_neighborhood))"
      ],
      "execution_count": 18,
      "outputs": [
        {
          "output_type": "stream",
          "text": [
            "Number of rows on which Neighborhood column is empty: 0\n"
          ],
          "name": "stdout"
        }
      ]
    },
    {
      "cell_type": "code",
      "metadata": {
        "id": "Xo8lf4iBkUdn",
        "colab_type": "code",
        "colab": {
          "base_uri": "https://localhost:8080/",
          "height": 35
        },
        "outputId": "7b15d853-ca4b-46dd-ba69-8e9b44ae6361"
      },
      "source": [
        "print('The shape of the dataset is:',df_postcodes.shape)\n"
      ],
      "execution_count": 19,
      "outputs": [
        {
          "output_type": "stream",
          "text": [
            "The shape of the dataset is: (103, 3)\n"
          ],
          "name": "stdout"
        }
      ]
    },
    {
      "cell_type": "code",
      "metadata": {
        "id": "5sXxzcSHkaTy",
        "colab_type": "code",
        "colab": {}
      },
      "source": [
        "#to make it easier, we will store this in csv format.\n",
        "#Export to .CSV\n",
        "df_postcodes.to_csv('Toronto_Postcodes.csv')"
      ],
      "execution_count": 20,
      "outputs": []
    },
    {
      "cell_type": "code",
      "metadata": {
        "id": "qPlXBugskdk6",
        "colab_type": "code",
        "colab": {
          "base_uri": "https://localhost:8080/",
          "height": 198
        },
        "outputId": "3ba61e05-def6-4f7d-916a-a5a25fddf281"
      },
      "source": [
        "#Read CSV file from link and load into dataframe\n",
        "url_csv = 'http://cocl.us/Geospatial_data'\n",
        "df_coordinates = pd.read_csv(url_csv)\n",
        "df_coordinates.head()"
      ],
      "execution_count": 21,
      "outputs": [
        {
          "output_type": "execute_result",
          "data": {
            "text/html": [
              "<div>\n",
              "<style scoped>\n",
              "    .dataframe tbody tr th:only-of-type {\n",
              "        vertical-align: middle;\n",
              "    }\n",
              "\n",
              "    .dataframe tbody tr th {\n",
              "        vertical-align: top;\n",
              "    }\n",
              "\n",
              "    .dataframe thead th {\n",
              "        text-align: right;\n",
              "    }\n",
              "</style>\n",
              "<table border=\"1\" class=\"dataframe\">\n",
              "  <thead>\n",
              "    <tr style=\"text-align: right;\">\n",
              "      <th></th>\n",
              "      <th>Postal Code</th>\n",
              "      <th>Latitude</th>\n",
              "      <th>Longitude</th>\n",
              "    </tr>\n",
              "  </thead>\n",
              "  <tbody>\n",
              "    <tr>\n",
              "      <th>0</th>\n",
              "      <td>M1B</td>\n",
              "      <td>43.806686</td>\n",
              "      <td>-79.194353</td>\n",
              "    </tr>\n",
              "    <tr>\n",
              "      <th>1</th>\n",
              "      <td>M1C</td>\n",
              "      <td>43.784535</td>\n",
              "      <td>-79.160497</td>\n",
              "    </tr>\n",
              "    <tr>\n",
              "      <th>2</th>\n",
              "      <td>M1E</td>\n",
              "      <td>43.763573</td>\n",
              "      <td>-79.188711</td>\n",
              "    </tr>\n",
              "    <tr>\n",
              "      <th>3</th>\n",
              "      <td>M1G</td>\n",
              "      <td>43.770992</td>\n",
              "      <td>-79.216917</td>\n",
              "    </tr>\n",
              "    <tr>\n",
              "      <th>4</th>\n",
              "      <td>M1H</td>\n",
              "      <td>43.773136</td>\n",
              "      <td>-79.239476</td>\n",
              "    </tr>\n",
              "  </tbody>\n",
              "</table>\n",
              "</div>"
            ],
            "text/plain": [
              "  Postal Code   Latitude  Longitude\n",
              "0         M1B  43.806686 -79.194353\n",
              "1         M1C  43.784535 -79.160497\n",
              "2         M1E  43.763573 -79.188711\n",
              "3         M1G  43.770992 -79.216917\n",
              "4         M1H  43.773136 -79.239476"
            ]
          },
          "metadata": {
            "tags": []
          },
          "execution_count": 21
        }
      ]
    },
    {
      "cell_type": "code",
      "metadata": {
        "id": "I70Xp8kLkmPo",
        "colab_type": "code",
        "colab": {
          "base_uri": "https://localhost:8080/",
          "height": 198
        },
        "outputId": "55099806-ef2e-4c33-cf13-fd38de1a8fe8"
      },
      "source": [
        "#use the previously cleaned data\n",
        "df_neighborhoods = pd.read_csv('Toronto_Postcodes.csv',index_col=[0])\n",
        "df_neighborhoods.head()"
      ],
      "execution_count": 22,
      "outputs": [
        {
          "output_type": "execute_result",
          "data": {
            "text/html": [
              "<div>\n",
              "<style scoped>\n",
              "    .dataframe tbody tr th:only-of-type {\n",
              "        vertical-align: middle;\n",
              "    }\n",
              "\n",
              "    .dataframe tbody tr th {\n",
              "        vertical-align: top;\n",
              "    }\n",
              "\n",
              "    .dataframe thead th {\n",
              "        text-align: right;\n",
              "    }\n",
              "</style>\n",
              "<table border=\"1\" class=\"dataframe\">\n",
              "  <thead>\n",
              "    <tr style=\"text-align: right;\">\n",
              "      <th></th>\n",
              "      <th>Postal Code</th>\n",
              "      <th>Borough</th>\n",
              "      <th>Neighbourhood</th>\n",
              "    </tr>\n",
              "  </thead>\n",
              "  <tbody>\n",
              "    <tr>\n",
              "      <th>0</th>\n",
              "      <td>M1B</td>\n",
              "      <td>Scarborough</td>\n",
              "      <td>Malvern, Rouge</td>\n",
              "    </tr>\n",
              "    <tr>\n",
              "      <th>1</th>\n",
              "      <td>M1C</td>\n",
              "      <td>Scarborough</td>\n",
              "      <td>Rouge Hill, Port Union, Highland Creek</td>\n",
              "    </tr>\n",
              "    <tr>\n",
              "      <th>2</th>\n",
              "      <td>M1E</td>\n",
              "      <td>Scarborough</td>\n",
              "      <td>Guildwood, Morningside, West Hill</td>\n",
              "    </tr>\n",
              "    <tr>\n",
              "      <th>3</th>\n",
              "      <td>M1G</td>\n",
              "      <td>Scarborough</td>\n",
              "      <td>Woburn</td>\n",
              "    </tr>\n",
              "    <tr>\n",
              "      <th>4</th>\n",
              "      <td>M1H</td>\n",
              "      <td>Scarborough</td>\n",
              "      <td>Cedarbrae</td>\n",
              "    </tr>\n",
              "  </tbody>\n",
              "</table>\n",
              "</div>"
            ],
            "text/plain": [
              "  Postal Code      Borough                           Neighbourhood\n",
              "0         M1B  Scarborough                          Malvern, Rouge\n",
              "1         M1C  Scarborough  Rouge Hill, Port Union, Highland Creek\n",
              "2         M1E  Scarborough       Guildwood, Morningside, West Hill\n",
              "3         M1G  Scarborough                                  Woburn\n",
              "4         M1H  Scarborough                               Cedarbrae"
            ]
          },
          "metadata": {
            "tags": []
          },
          "execution_count": 22
        }
      ]
    },
    {
      "cell_type": "code",
      "metadata": {
        "id": "SSk0bMFQkpZa",
        "colab_type": "code",
        "colab": {}
      },
      "source": [
        "# Make sure both dataframes have the same \n",
        "df_coordinates.rename(columns={'Postal Code': 'PostalCode'}, inplace=True)\n",
        "df_neighborhoods.rename(columns={'Postal Code': 'PostalCode'}, inplace=True)"
      ],
      "execution_count": 30,
      "outputs": []
    },
    {
      "cell_type": "code",
      "metadata": {
        "id": "7DZ_TSzqktii",
        "colab_type": "code",
        "colab": {
          "base_uri": "https://localhost:8080/",
          "height": 198
        },
        "outputId": "175805f4-abb0-439c-d767-2b19da1281de"
      },
      "source": [
        "# Merge both datasets\n",
        "df_neighborhoods_coordinates = pd.merge(df_neighborhoods, df_coordinates, on='PostalCode')\n",
        "df_neighborhoods_coordinates.head()"
      ],
      "execution_count": 31,
      "outputs": [
        {
          "output_type": "execute_result",
          "data": {
            "text/html": [
              "<div>\n",
              "<style scoped>\n",
              "    .dataframe tbody tr th:only-of-type {\n",
              "        vertical-align: middle;\n",
              "    }\n",
              "\n",
              "    .dataframe tbody tr th {\n",
              "        vertical-align: top;\n",
              "    }\n",
              "\n",
              "    .dataframe thead th {\n",
              "        text-align: right;\n",
              "    }\n",
              "</style>\n",
              "<table border=\"1\" class=\"dataframe\">\n",
              "  <thead>\n",
              "    <tr style=\"text-align: right;\">\n",
              "      <th></th>\n",
              "      <th>PostalCode</th>\n",
              "      <th>Borough</th>\n",
              "      <th>Neighbourhood</th>\n",
              "      <th>Latitude</th>\n",
              "      <th>Longitude</th>\n",
              "    </tr>\n",
              "  </thead>\n",
              "  <tbody>\n",
              "    <tr>\n",
              "      <th>0</th>\n",
              "      <td>M1B</td>\n",
              "      <td>Scarborough</td>\n",
              "      <td>Malvern, Rouge</td>\n",
              "      <td>43.806686</td>\n",
              "      <td>-79.194353</td>\n",
              "    </tr>\n",
              "    <tr>\n",
              "      <th>1</th>\n",
              "      <td>M1C</td>\n",
              "      <td>Scarborough</td>\n",
              "      <td>Rouge Hill, Port Union, Highland Creek</td>\n",
              "      <td>43.784535</td>\n",
              "      <td>-79.160497</td>\n",
              "    </tr>\n",
              "    <tr>\n",
              "      <th>2</th>\n",
              "      <td>M1E</td>\n",
              "      <td>Scarborough</td>\n",
              "      <td>Guildwood, Morningside, West Hill</td>\n",
              "      <td>43.763573</td>\n",
              "      <td>-79.188711</td>\n",
              "    </tr>\n",
              "    <tr>\n",
              "      <th>3</th>\n",
              "      <td>M1G</td>\n",
              "      <td>Scarborough</td>\n",
              "      <td>Woburn</td>\n",
              "      <td>43.770992</td>\n",
              "      <td>-79.216917</td>\n",
              "    </tr>\n",
              "    <tr>\n",
              "      <th>4</th>\n",
              "      <td>M1H</td>\n",
              "      <td>Scarborough</td>\n",
              "      <td>Cedarbrae</td>\n",
              "      <td>43.773136</td>\n",
              "      <td>-79.239476</td>\n",
              "    </tr>\n",
              "  </tbody>\n",
              "</table>\n",
              "</div>"
            ],
            "text/plain": [
              "  PostalCode      Borough  ...   Latitude  Longitude\n",
              "0        M1B  Scarborough  ...  43.806686 -79.194353\n",
              "1        M1C  Scarborough  ...  43.784535 -79.160497\n",
              "2        M1E  Scarborough  ...  43.763573 -79.188711\n",
              "3        M1G  Scarborough  ...  43.770992 -79.216917\n",
              "4        M1H  Scarborough  ...  43.773136 -79.239476\n",
              "\n",
              "[5 rows x 5 columns]"
            ]
          },
          "metadata": {
            "tags": []
          },
          "execution_count": 31
        }
      ]
    },
    {
      "cell_type": "code",
      "metadata": {
        "id": "fCi7NTt7kwVb",
        "colab_type": "code",
        "colab": {
          "base_uri": "https://localhost:8080/",
          "height": 108
        },
        "outputId": "ff3fe4ac-c85f-4853-99a3-778a19a8e1b3"
      },
      "source": [
        "# Check coordinates for a couple of neighborhoods\n",
        "df_neighborhoods_coordinates[(df_neighborhoods_coordinates['PostalCode']=='M5G') |\n",
        "                             (df_neighborhoods_coordinates['PostalCode']=='M2H') ]"
      ],
      "execution_count": 32,
      "outputs": [
        {
          "output_type": "execute_result",
          "data": {
            "text/html": [
              "<div>\n",
              "<style scoped>\n",
              "    .dataframe tbody tr th:only-of-type {\n",
              "        vertical-align: middle;\n",
              "    }\n",
              "\n",
              "    .dataframe tbody tr th {\n",
              "        vertical-align: top;\n",
              "    }\n",
              "\n",
              "    .dataframe thead th {\n",
              "        text-align: right;\n",
              "    }\n",
              "</style>\n",
              "<table border=\"1\" class=\"dataframe\">\n",
              "  <thead>\n",
              "    <tr style=\"text-align: right;\">\n",
              "      <th></th>\n",
              "      <th>PostalCode</th>\n",
              "      <th>Borough</th>\n",
              "      <th>Neighbourhood</th>\n",
              "      <th>Latitude</th>\n",
              "      <th>Longitude</th>\n",
              "    </tr>\n",
              "  </thead>\n",
              "  <tbody>\n",
              "    <tr>\n",
              "      <th>17</th>\n",
              "      <td>M2H</td>\n",
              "      <td>North York</td>\n",
              "      <td>Hillcrest Village</td>\n",
              "      <td>43.803762</td>\n",
              "      <td>-79.363452</td>\n",
              "    </tr>\n",
              "    <tr>\n",
              "      <th>57</th>\n",
              "      <td>M5G</td>\n",
              "      <td>Downtown Toronto</td>\n",
              "      <td>Central Bay Street</td>\n",
              "      <td>43.657952</td>\n",
              "      <td>-79.387383</td>\n",
              "    </tr>\n",
              "  </tbody>\n",
              "</table>\n",
              "</div>"
            ],
            "text/plain": [
              "   PostalCode           Borough       Neighbourhood   Latitude  Longitude\n",
              "17        M2H        North York   Hillcrest Village  43.803762 -79.363452\n",
              "57        M5G  Downtown Toronto  Central Bay Street  43.657952 -79.387383"
            ]
          },
          "metadata": {
            "tags": []
          },
          "execution_count": 32
        }
      ]
    },
    {
      "cell_type": "code",
      "metadata": {
        "id": "FdjOi-j_lN-L",
        "colab_type": "code",
        "colab": {}
      },
      "source": [
        "#Export to .CSV\n",
        "df_neighborhoods_coordinates.to_csv('Toronto_Postcodes_2.csv')"
      ],
      "execution_count": 33,
      "outputs": []
    },
    {
      "cell_type": "code",
      "metadata": {
        "id": "ojLyTJ5MlRp_",
        "colab_type": "code",
        "colab": {
          "base_uri": "https://localhost:8080/",
          "height": 198
        },
        "outputId": "bac2ca2f-1757-47f9-9793-fd5c4352aa0f"
      },
      "source": [
        "# Read .csv file from above\n",
        "df = pd.read_csv('Toronto_Postcodes_2.csv', index_col=0)\n",
        "df.head()"
      ],
      "execution_count": 35,
      "outputs": [
        {
          "output_type": "execute_result",
          "data": {
            "text/html": [
              "<div>\n",
              "<style scoped>\n",
              "    .dataframe tbody tr th:only-of-type {\n",
              "        vertical-align: middle;\n",
              "    }\n",
              "\n",
              "    .dataframe tbody tr th {\n",
              "        vertical-align: top;\n",
              "    }\n",
              "\n",
              "    .dataframe thead th {\n",
              "        text-align: right;\n",
              "    }\n",
              "</style>\n",
              "<table border=\"1\" class=\"dataframe\">\n",
              "  <thead>\n",
              "    <tr style=\"text-align: right;\">\n",
              "      <th></th>\n",
              "      <th>PostalCode</th>\n",
              "      <th>Borough</th>\n",
              "      <th>Neighbourhood</th>\n",
              "      <th>Latitude</th>\n",
              "      <th>Longitude</th>\n",
              "    </tr>\n",
              "  </thead>\n",
              "  <tbody>\n",
              "    <tr>\n",
              "      <th>0</th>\n",
              "      <td>M1B</td>\n",
              "      <td>Scarborough</td>\n",
              "      <td>Malvern, Rouge</td>\n",
              "      <td>43.806686</td>\n",
              "      <td>-79.194353</td>\n",
              "    </tr>\n",
              "    <tr>\n",
              "      <th>1</th>\n",
              "      <td>M1C</td>\n",
              "      <td>Scarborough</td>\n",
              "      <td>Rouge Hill, Port Union, Highland Creek</td>\n",
              "      <td>43.784535</td>\n",
              "      <td>-79.160497</td>\n",
              "    </tr>\n",
              "    <tr>\n",
              "      <th>2</th>\n",
              "      <td>M1E</td>\n",
              "      <td>Scarborough</td>\n",
              "      <td>Guildwood, Morningside, West Hill</td>\n",
              "      <td>43.763573</td>\n",
              "      <td>-79.188711</td>\n",
              "    </tr>\n",
              "    <tr>\n",
              "      <th>3</th>\n",
              "      <td>M1G</td>\n",
              "      <td>Scarborough</td>\n",
              "      <td>Woburn</td>\n",
              "      <td>43.770992</td>\n",
              "      <td>-79.216917</td>\n",
              "    </tr>\n",
              "    <tr>\n",
              "      <th>4</th>\n",
              "      <td>M1H</td>\n",
              "      <td>Scarborough</td>\n",
              "      <td>Cedarbrae</td>\n",
              "      <td>43.773136</td>\n",
              "      <td>-79.239476</td>\n",
              "    </tr>\n",
              "  </tbody>\n",
              "</table>\n",
              "</div>"
            ],
            "text/plain": [
              "  PostalCode      Borough  ...   Latitude  Longitude\n",
              "0        M1B  Scarborough  ...  43.806686 -79.194353\n",
              "1        M1C  Scarborough  ...  43.784535 -79.160497\n",
              "2        M1E  Scarborough  ...  43.763573 -79.188711\n",
              "3        M1G  Scarborough  ...  43.770992 -79.216917\n",
              "4        M1H  Scarborough  ...  43.773136 -79.239476\n",
              "\n",
              "[5 rows x 5 columns]"
            ]
          },
          "metadata": {
            "tags": []
          },
          "execution_count": 35
        }
      ]
    },
    {
      "cell_type": "code",
      "metadata": {
        "id": "tFKPTCXolafs",
        "colab_type": "code",
        "colab": {
          "base_uri": "https://localhost:8080/",
          "height": 35
        },
        "outputId": "0d5ec634-5896-425e-9d3b-8508dcacc5d4"
      },
      "source": [
        "print('The dataframe has {} boroughs and {} neighborhoods.'.format(\n",
        "        len(df['Borough'].unique()),\n",
        "        df.shape[0]\n",
        "    )\n",
        ")"
      ],
      "execution_count": 36,
      "outputs": [
        {
          "output_type": "stream",
          "text": [
            "The dataframe has 10 boroughs and 103 neighborhoods.\n"
          ],
          "name": "stdout"
        }
      ]
    },
    {
      "cell_type": "code",
      "metadata": {
        "id": "o6MYX8RbleAa",
        "colab_type": "code",
        "colab": {
          "base_uri": "https://localhost:8080/",
          "height": 235
        },
        "outputId": "fbbbb0a6-410a-4f35-97fd-cbc77aa6ff46"
      },
      "source": [
        "#count Bourough and Neighborhood\n",
        "df.groupby('Borough').count()['Neighborhood']"
      ],
      "execution_count": 38,
      "outputs": [
        {
          "output_type": "execute_result",
          "data": {
            "text/plain": [
              "Borough\n",
              "Central Toronto      9\n",
              "Downtown Toronto    19\n",
              "East Toronto         5\n",
              "East York            5\n",
              "Etobicoke           12\n",
              "Mississauga          1\n",
              "North York          24\n",
              "Scarborough         17\n",
              "West Toronto         6\n",
              "York                 5\n",
              "Name: Neighborhood, dtype: int64"
            ]
          },
          "metadata": {
            "tags": []
          },
          "execution_count": 38
        }
      ]
    },
    {
      "cell_type": "code",
      "metadata": {
        "id": "_KBvNExKlgiB",
        "colab_type": "code",
        "colab": {
          "base_uri": "https://localhost:8080/",
          "height": 289
        },
        "outputId": "656e0805-5fff-4f2b-840e-a0d15a1634cc"
      },
      "source": [
        "df_toronto = df[df['Borough'].str.contains('Toronto')]\n",
        "df_toronto.reset_index(inplace=True)\n",
        "df_toronto.drop('index', axis=1, inplace=True)\n",
        "df_toronto.head()"
      ],
      "execution_count": 39,
      "outputs": [
        {
          "output_type": "stream",
          "text": [
            "/usr/local/lib/python3.6/dist-packages/pandas/core/frame.py:3997: SettingWithCopyWarning: \n",
            "A value is trying to be set on a copy of a slice from a DataFrame\n",
            "\n",
            "See the caveats in the documentation: https://pandas.pydata.org/pandas-docs/stable/user_guide/indexing.html#returning-a-view-versus-a-copy\n",
            "  errors=errors,\n"
          ],
          "name": "stderr"
        },
        {
          "output_type": "execute_result",
          "data": {
            "text/html": [
              "<div>\n",
              "<style scoped>\n",
              "    .dataframe tbody tr th:only-of-type {\n",
              "        vertical-align: middle;\n",
              "    }\n",
              "\n",
              "    .dataframe tbody tr th {\n",
              "        vertical-align: top;\n",
              "    }\n",
              "\n",
              "    .dataframe thead th {\n",
              "        text-align: right;\n",
              "    }\n",
              "</style>\n",
              "<table border=\"1\" class=\"dataframe\">\n",
              "  <thead>\n",
              "    <tr style=\"text-align: right;\">\n",
              "      <th></th>\n",
              "      <th>PostalCode</th>\n",
              "      <th>Borough</th>\n",
              "      <th>Neighborhood</th>\n",
              "      <th>Latitude</th>\n",
              "      <th>Longitude</th>\n",
              "    </tr>\n",
              "  </thead>\n",
              "  <tbody>\n",
              "    <tr>\n",
              "      <th>0</th>\n",
              "      <td>M4E</td>\n",
              "      <td>East Toronto</td>\n",
              "      <td>The Beaches</td>\n",
              "      <td>43.676357</td>\n",
              "      <td>-79.293031</td>\n",
              "    </tr>\n",
              "    <tr>\n",
              "      <th>1</th>\n",
              "      <td>M4K</td>\n",
              "      <td>East Toronto</td>\n",
              "      <td>The Danforth West, Riverdale</td>\n",
              "      <td>43.679557</td>\n",
              "      <td>-79.352188</td>\n",
              "    </tr>\n",
              "    <tr>\n",
              "      <th>2</th>\n",
              "      <td>M4L</td>\n",
              "      <td>East Toronto</td>\n",
              "      <td>India Bazaar, The Beaches West</td>\n",
              "      <td>43.668999</td>\n",
              "      <td>-79.315572</td>\n",
              "    </tr>\n",
              "    <tr>\n",
              "      <th>3</th>\n",
              "      <td>M4M</td>\n",
              "      <td>East Toronto</td>\n",
              "      <td>Studio District</td>\n",
              "      <td>43.659526</td>\n",
              "      <td>-79.340923</td>\n",
              "    </tr>\n",
              "    <tr>\n",
              "      <th>4</th>\n",
              "      <td>M4N</td>\n",
              "      <td>Central Toronto</td>\n",
              "      <td>Lawrence Park</td>\n",
              "      <td>43.728020</td>\n",
              "      <td>-79.388790</td>\n",
              "    </tr>\n",
              "  </tbody>\n",
              "</table>\n",
              "</div>"
            ],
            "text/plain": [
              "  PostalCode          Borough  ...   Latitude  Longitude\n",
              "0        M4E     East Toronto  ...  43.676357 -79.293031\n",
              "1        M4K     East Toronto  ...  43.679557 -79.352188\n",
              "2        M4L     East Toronto  ...  43.668999 -79.315572\n",
              "3        M4M     East Toronto  ...  43.659526 -79.340923\n",
              "4        M4N  Central Toronto  ...  43.728020 -79.388790\n",
              "\n",
              "[5 rows x 5 columns]"
            ]
          },
          "metadata": {
            "tags": []
          },
          "execution_count": 39
        }
      ]
    },
    {
      "cell_type": "code",
      "metadata": {
        "id": "a2GhILkPlqfO",
        "colab_type": "code",
        "colab": {
          "base_uri": "https://localhost:8080/",
          "height": 126
        },
        "outputId": "1446be5e-6200-4a12-fea3-b8bd9079ad90"
      },
      "source": [
        "#Check the number of neighborhoods\n",
        "print(df_toronto.groupby('Borough').count()['Neighborhood'])"
      ],
      "execution_count": 40,
      "outputs": [
        {
          "output_type": "stream",
          "text": [
            "Borough\n",
            "Central Toronto      9\n",
            "Downtown Toronto    19\n",
            "East Toronto         5\n",
            "West Toronto         6\n",
            "Name: Neighborhood, dtype: int64\n"
          ],
          "name": "stdout"
        }
      ]
    },
    {
      "cell_type": "code",
      "metadata": {
        "id": "x_Tss4palt_8",
        "colab_type": "code",
        "colab": {}
      },
      "source": [
        "#Create list with the Boroughs (to be used later)\n",
        "boroughs = df_toronto['Borough'].unique().tolist()"
      ],
      "execution_count": 41,
      "outputs": []
    },
    {
      "cell_type": "code",
      "metadata": {
        "id": "4FZePyhXlwrj",
        "colab_type": "code",
        "colab": {
          "base_uri": "https://localhost:8080/",
          "height": 35
        },
        "outputId": "ddb0f6ac-b505-42f0-fd65-d5913ac56b87"
      },
      "source": [
        "#Obtain the coordinates from the dataset itself, just averaging Latitude/Longitude of the current dataset \n",
        "lat_toronto = df_toronto['Latitude'].mean()\n",
        "lon_toronto = df_toronto['Longitude'].mean()\n",
        "print('The geographical coordinates of Toronto are {}, {}'.format(lat_toronto, lon_toronto))"
      ],
      "execution_count": 42,
      "outputs": [
        {
          "output_type": "stream",
          "text": [
            "The geographical coordinates of Toronto are 43.66713498717948, -79.38987324871795\n"
          ],
          "name": "stdout"
        }
      ]
    },
    {
      "cell_type": "code",
      "metadata": {
        "id": "SuDlc7RGlzpJ",
        "colab_type": "code",
        "colab": {}
      },
      "source": [
        "import numpy as np\n",
        "borough_color = {}\n",
        "for borough in boroughs:\n",
        "    borough_color[borough]= '#%02X%02X%02X' % tuple(np.random.choice(range(256), size=3)) #Random color"
      ],
      "execution_count": 44,
      "outputs": []
    },
    {
      "cell_type": "code",
      "metadata": {
        "id": "CXle1gSwl4Dy",
        "colab_type": "code",
        "colab": {
          "base_uri": "https://localhost:8080/",
          "height": 689
        },
        "outputId": "de51903e-4126-47e9-fee1-64757df9aaf2"
      },
      "source": [
        "map_toronto = folium.Map(location=[lat_toronto, lon_toronto], zoom_start=12)\n",
        "\n",
        "# add markers to map\n",
        "for lat, lng, borough, neighborhood in zip(df_toronto['Latitude'], \n",
        "                                           df_toronto['Longitude'],\n",
        "                                           df_toronto['Borough'], \n",
        "                                           df_toronto['Neighborhood']):\n",
        "    label_text = borough + ' - ' + neighborhood\n",
        "    label = folium.Popup(label_text)\n",
        "    folium.CircleMarker(\n",
        "        [lat, lng],\n",
        "        radius=5,\n",
        "        popup=label,\n",
        "        color=borough_color[borough],\n",
        "        fill_color=borough_color[borough],\n",
        "        fill_opacity=0.7).add_to(map_toronto)  \n",
        "    \n",
        "map_toronto"
      ],
      "execution_count": 45,
      "outputs": [
        {
          "output_type": "execute_result",
          "data": {
            "text/html": [
              "<div style=\"width:100%;\"><div style=\"position:relative;width:100%;height:0;padding-bottom:60%;\"><span style=\"color:#565656\">Make this Notebook Trusted to load map: File -> Trust Notebook</span><iframe src=\"about:blank\" style=\"position:absolute;width:100%;height:100%;left:0;top:0;border:none !important;\" data-html=PCFET0NUWVBFIGh0bWw+CjxoZWFkPiAgICAKICAgIDxtZXRhIGh0dHAtZXF1aXY9ImNvbnRlbnQtdHlwZSIgY29udGVudD0idGV4dC9odG1sOyBjaGFyc2V0PVVURi04IiAvPgogICAgPHNjcmlwdD5MX1BSRUZFUl9DQU5WQVM9ZmFsc2U7IExfTk9fVE9VQ0g9ZmFsc2U7IExfRElTQUJMRV8zRD1mYWxzZTs8L3NjcmlwdD4KICAgIDxzY3JpcHQgc3JjPSJodHRwczovL2Nkbi5qc2RlbGl2ci5uZXQvbnBtL2xlYWZsZXRAMS40LjAvZGlzdC9sZWFmbGV0LmpzIj48L3NjcmlwdD4KICAgIDxzY3JpcHQgc3JjPSJodHRwczovL2NvZGUuanF1ZXJ5LmNvbS9qcXVlcnktMS4xMi40Lm1pbi5qcyI+PC9zY3JpcHQ+CiAgICA8c2NyaXB0IHNyYz0iaHR0cHM6Ly9tYXhjZG4uYm9vdHN0cmFwY2RuLmNvbS9ib290c3RyYXAvMy4yLjAvanMvYm9vdHN0cmFwLm1pbi5qcyI+PC9zY3JpcHQ+CiAgICA8c2NyaXB0IHNyYz0iaHR0cHM6Ly9jZG5qcy5jbG91ZGZsYXJlLmNvbS9hamF4L2xpYnMvTGVhZmxldC5hd2Vzb21lLW1hcmtlcnMvMi4wLjIvbGVhZmxldC5hd2Vzb21lLW1hcmtlcnMuanMiPjwvc2NyaXB0PgogICAgPGxpbmsgcmVsPSJzdHlsZXNoZWV0IiBocmVmPSJodHRwczovL2Nkbi5qc2RlbGl2ci5uZXQvbnBtL2xlYWZsZXRAMS40LjAvZGlzdC9sZWFmbGV0LmNzcyIvPgogICAgPGxpbmsgcmVsPSJzdHlsZXNoZWV0IiBocmVmPSJodHRwczovL21heGNkbi5ib290c3RyYXBjZG4uY29tL2Jvb3RzdHJhcC8zLjIuMC9jc3MvYm9vdHN0cmFwLm1pbi5jc3MiLz4KICAgIDxsaW5rIHJlbD0ic3R5bGVzaGVldCIgaHJlZj0iaHR0cHM6Ly9tYXhjZG4uYm9vdHN0cmFwY2RuLmNvbS9ib290c3RyYXAvMy4yLjAvY3NzL2Jvb3RzdHJhcC10aGVtZS5taW4uY3NzIi8+CiAgICA8bGluayByZWw9InN0eWxlc2hlZXQiIGhyZWY9Imh0dHBzOi8vbWF4Y2RuLmJvb3RzdHJhcGNkbi5jb20vZm9udC1hd2Vzb21lLzQuNi4zL2Nzcy9mb250LWF3ZXNvbWUubWluLmNzcyIvPgogICAgPGxpbmsgcmVsPSJzdHlsZXNoZWV0IiBocmVmPSJodHRwczovL2NkbmpzLmNsb3VkZmxhcmUuY29tL2FqYXgvbGlicy9MZWFmbGV0LmF3ZXNvbWUtbWFya2Vycy8yLjAuMi9sZWFmbGV0LmF3ZXNvbWUtbWFya2Vycy5jc3MiLz4KICAgIDxsaW5rIHJlbD0ic3R5bGVzaGVldCIgaHJlZj0iaHR0cHM6Ly9yYXdjZG4uZ2l0aGFjay5jb20vcHl0aG9uLXZpc3VhbGl6YXRpb24vZm9saXVtL21hc3Rlci9mb2xpdW0vdGVtcGxhdGVzL2xlYWZsZXQuYXdlc29tZS5yb3RhdGUuY3NzIi8+CiAgICA8c3R5bGU+aHRtbCwgYm9keSB7d2lkdGg6IDEwMCU7aGVpZ2h0OiAxMDAlO21hcmdpbjogMDtwYWRkaW5nOiAwO308L3N0eWxlPgogICAgPHN0eWxlPiNtYXAge3Bvc2l0aW9uOmFic29sdXRlO3RvcDowO2JvdHRvbTowO3JpZ2h0OjA7bGVmdDowO308L3N0eWxlPgogICAgCiAgICA8bWV0YSBuYW1lPSJ2aWV3cG9ydCIgY29udGVudD0id2lkdGg9ZGV2aWNlLXdpZHRoLAogICAgICAgIGluaXRpYWwtc2NhbGU9MS4wLCBtYXhpbXVtLXNjYWxlPTEuMCwgdXNlci1zY2FsYWJsZT1ubyIgLz4KICAgIDxzdHlsZT4jbWFwX2Y1YzQ2ODE5NTlhMTRlOWRhODQxNjEyODNiZTIyZDM1IHsKICAgICAgICBwb3NpdGlvbjogcmVsYXRpdmU7CiAgICAgICAgd2lkdGg6IDEwMC4wJTsKICAgICAgICBoZWlnaHQ6IDEwMC4wJTsKICAgICAgICBsZWZ0OiAwLjAlOwogICAgICAgIHRvcDogMC4wJTsKICAgICAgICB9CiAgICA8L3N0eWxlPgo8L2hlYWQ+Cjxib2R5PiAgICAKICAgIAogICAgPGRpdiBjbGFzcz0iZm9saXVtLW1hcCIgaWQ9Im1hcF9mNWM0NjgxOTU5YTE0ZTlkYTg0MTYxMjgzYmUyMmQzNSIgPjwvZGl2Pgo8L2JvZHk+CjxzY3JpcHQ+ICAgIAogICAgCiAgICAKICAgICAgICB2YXIgYm91bmRzID0gbnVsbDsKICAgIAoKICAgIHZhciBtYXBfZjVjNDY4MTk1OWExNGU5ZGE4NDE2MTI4M2JlMjJkMzUgPSBMLm1hcCgKICAgICAgICAnbWFwX2Y1YzQ2ODE5NTlhMTRlOWRhODQxNjEyODNiZTIyZDM1JywgewogICAgICAgIGNlbnRlcjogWzQzLjY2NzEzNDk4NzE3OTQ4LCAtNzkuMzg5ODczMjQ4NzE3OTVdLAogICAgICAgIHpvb206IDEyLAogICAgICAgIG1heEJvdW5kczogYm91bmRzLAogICAgICAgIGxheWVyczogW10sCiAgICAgICAgd29ybGRDb3B5SnVtcDogZmFsc2UsCiAgICAgICAgY3JzOiBMLkNSUy5FUFNHMzg1NywKICAgICAgICB6b29tQ29udHJvbDogdHJ1ZSwKICAgICAgICB9KTsKCgogICAgCiAgICB2YXIgdGlsZV9sYXllcl85ZGZjMzliNWU1NmU0YjU3YmU4MDdkYWM2MGU5ODljYiA9IEwudGlsZUxheWVyKAogICAgICAgICdodHRwczovL3tzfS50aWxlLm9wZW5zdHJlZXRtYXAub3JnL3t6fS97eH0ve3l9LnBuZycsCiAgICAgICAgewogICAgICAgICJhdHRyaWJ1dGlvbiI6IG51bGwsCiAgICAgICAgImRldGVjdFJldGluYSI6IGZhbHNlLAogICAgICAgICJtYXhOYXRpdmVab29tIjogMTgsCiAgICAgICAgIm1heFpvb20iOiAxOCwKICAgICAgICAibWluWm9vbSI6IDAsCiAgICAgICAgIm5vV3JhcCI6IGZhbHNlLAogICAgICAgICJvcGFjaXR5IjogMSwKICAgICAgICAic3ViZG9tYWlucyI6ICJhYmMiLAogICAgICAgICJ0bXMiOiBmYWxzZQp9KS5hZGRUbyhtYXBfZjVjNDY4MTk1OWExNGU5ZGE4NDE2MTI4M2JlMjJkMzUpOwogICAgCiAgICAgICAgICAgIHZhciBjaXJjbGVfbWFya2VyX2E2N2I3MTVhYzQ5MTRmYjI4NTgzNzdjODU1NDZmYjBkID0gTC5jaXJjbGVNYXJrZXIoCiAgICAgICAgICAgICAgICBbNDMuNjc2MzU3Mzk5OTk5OTksIC03OS4yOTMwMzEyXSwKICAgICAgICAgICAgICAgIHsKICAiYnViYmxpbmdNb3VzZUV2ZW50cyI6IHRydWUsCiAgImNvbG9yIjogIiNBNEE0OUQiLAogICJkYXNoQXJyYXkiOiBudWxsLAogICJkYXNoT2Zmc2V0IjogbnVsbCwKICAiZmlsbCI6IHRydWUsCiAgImZpbGxDb2xvciI6ICIjQTRBNDlEIiwKICAiZmlsbE9wYWNpdHkiOiAwLjcsCiAgImZpbGxSdWxlIjogImV2ZW5vZGQiLAogICJsaW5lQ2FwIjogInJvdW5kIiwKICAibGluZUpvaW4iOiAicm91bmQiLAogICJvcGFjaXR5IjogMS4wLAogICJyYWRpdXMiOiA1LAogICJzdHJva2UiOiB0cnVlLAogICJ3ZWlnaHQiOiAzCn0KICAgICAgICAgICAgICAgICkKICAgICAgICAgICAgICAgIC5hZGRUbyhtYXBfZjVjNDY4MTk1OWExNGU5ZGE4NDE2MTI4M2JlMjJkMzUpOwogICAgICAgICAgICAKICAgIAogICAgICAgICAgICB2YXIgcG9wdXBfY2E5N2ZlYWFhY2VjNGJmZThkNmY5OWU3OTdjOTFiNmMgPSBMLnBvcHVwKHttYXhXaWR0aDogJzEwMCUnCiAgICAgICAgICAgIAogICAgICAgICAgICB9KTsKCiAgICAgICAgICAgIAogICAgICAgICAgICAgICAgdmFyIGh0bWxfMTBiMjQ0ZTVmMzgwNDYzZmJmY2Q4Nzc0ZDViNDMwODAgPSAkKGA8ZGl2IGlkPSJodG1sXzEwYjI0NGU1ZjM4MDQ2M2ZiZmNkODc3NGQ1YjQzMDgwIiBzdHlsZT0id2lkdGg6IDEwMC4wJTsgaGVpZ2h0OiAxMDAuMCU7Ij5FYXN0IFRvcm9udG8gLSBUaGUgQmVhY2hlczwvZGl2PmApWzBdOwogICAgICAgICAgICAgICAgcG9wdXBfY2E5N2ZlYWFhY2VjNGJmZThkNmY5OWU3OTdjOTFiNmMuc2V0Q29udGVudChodG1sXzEwYjI0NGU1ZjM4MDQ2M2ZiZmNkODc3NGQ1YjQzMDgwKTsKICAgICAgICAgICAgCgogICAgICAgICAgICBjaXJjbGVfbWFya2VyX2E2N2I3MTVhYzQ5MTRmYjI4NTgzNzdjODU1NDZmYjBkLmJpbmRQb3B1cChwb3B1cF9jYTk3ZmVhYWFjZWM0YmZlOGQ2Zjk5ZTc5N2M5MWI2YykKICAgICAgICAgICAgOwoKICAgICAgICAgICAgCiAgICAgICAgCiAgICAKICAgICAgICAgICAgdmFyIGNpcmNsZV9tYXJrZXJfMmE3ZGJjMTQ0ZjVjNDZkZjgxNjUwMTA4NWQ2MTg1NmMgPSBMLmNpcmNsZU1hcmtlcigKICAgICAgICAgICAgICAgIFs0My42Nzk1NTcxLCAtNzkuMzUyMTg4XSwKICAgICAgICAgICAgICAgIHsKICAiYnViYmxpbmdNb3VzZUV2ZW50cyI6IHRydWUsCiAgImNvbG9yIjogIiNBNEE0OUQiLAogICJkYXNoQXJyYXkiOiBudWxsLAogICJkYXNoT2Zmc2V0IjogbnVsbCwKICAiZmlsbCI6IHRydWUsCiAgImZpbGxDb2xvciI6ICIjQTRBNDlEIiwKICAiZmlsbE9wYWNpdHkiOiAwLjcsCiAgImZpbGxSdWxlIjogImV2ZW5vZGQiLAogICJsaW5lQ2FwIjogInJvdW5kIiwKICAibGluZUpvaW4iOiAicm91bmQiLAogICJvcGFjaXR5IjogMS4wLAogICJyYWRpdXMiOiA1LAogICJzdHJva2UiOiB0cnVlLAogICJ3ZWlnaHQiOiAzCn0KICAgICAgICAgICAgICAgICkKICAgICAgICAgICAgICAgIC5hZGRUbyhtYXBfZjVjNDY4MTk1OWExNGU5ZGE4NDE2MTI4M2JlMjJkMzUpOwogICAgICAgICAgICAKICAgIAogICAgICAgICAgICB2YXIgcG9wdXBfOTk5YzQwYmIyNzQ2NGM0YjllYThkYjQ1MWU5NzM3MzcgPSBMLnBvcHVwKHttYXhXaWR0aDogJzEwMCUnCiAgICAgICAgICAgIAogICAgICAgICAgICB9KTsKCiAgICAgICAgICAgIAogICAgICAgICAgICAgICAgdmFyIGh0bWxfOGUxM2IzYjRlYTEzNDkzOTg1MjU4YmY5OGZlYmZmODkgPSAkKGA8ZGl2IGlkPSJodG1sXzhlMTNiM2I0ZWExMzQ5Mzk4NTI1OGJmOThmZWJmZjg5IiBzdHlsZT0id2lkdGg6IDEwMC4wJTsgaGVpZ2h0OiAxMDAuMCU7Ij5FYXN0IFRvcm9udG8gLSBUaGUgRGFuZm9ydGggV2VzdCwgUml2ZXJkYWxlPC9kaXY+YClbMF07CiAgICAgICAgICAgICAgICBwb3B1cF85OTljNDBiYjI3NDY0YzRiOWVhOGRiNDUxZTk3MzczNy5zZXRDb250ZW50KGh0bWxfOGUxM2IzYjRlYTEzNDkzOTg1MjU4YmY5OGZlYmZmODkpOwogICAgICAgICAgICAKCiAgICAgICAgICAgIGNpcmNsZV9tYXJrZXJfMmE3ZGJjMTQ0ZjVjNDZkZjgxNjUwMTA4NWQ2MTg1NmMuYmluZFBvcHVwKHBvcHVwXzk5OWM0MGJiMjc0NjRjNGI5ZWE4ZGI0NTFlOTczNzM3KQogICAgICAgICAgICA7CgogICAgICAgICAgICAKICAgICAgICAKICAgIAogICAgICAgICAgICB2YXIgY2lyY2xlX21hcmtlcl81NzM4NDMzNGNhOTc0YjU4OTdjOWQ2MmE0ZDU2NjVjNiA9IEwuY2lyY2xlTWFya2VyKAogICAgICAgICAgICAgICAgWzQzLjY2ODk5ODUsIC03OS4zMTU1NzE1OTk5OTk5OF0sCiAgICAgICAgICAgICAgICB7CiAgImJ1YmJsaW5nTW91c2VFdmVudHMiOiB0cnVlLAogICJjb2xvciI6ICIjQTRBNDlEIiwKICAiZGFzaEFycmF5IjogbnVsbCwKICAiZGFzaE9mZnNldCI6IG51bGwsCiAgImZpbGwiOiB0cnVlLAogICJmaWxsQ29sb3IiOiAiI0E0QTQ5RCIsCiAgImZpbGxPcGFjaXR5IjogMC43LAogICJmaWxsUnVsZSI6ICJldmVub2RkIiwKICAibGluZUNhcCI6ICJyb3VuZCIsCiAgImxpbmVKb2luIjogInJvdW5kIiwKICAib3BhY2l0eSI6IDEuMCwKICAicmFkaXVzIjogNSwKICAic3Ryb2tlIjogdHJ1ZSwKICAid2VpZ2h0IjogMwp9CiAgICAgICAgICAgICAgICApCiAgICAgICAgICAgICAgICAuYWRkVG8obWFwX2Y1YzQ2ODE5NTlhMTRlOWRhODQxNjEyODNiZTIyZDM1KTsKICAgICAgICAgICAgCiAgICAKICAgICAgICAgICAgdmFyIHBvcHVwX2U2NWY1ZmMyOTU3MjQ3MzFiOTFhNzQwNGM4NjYxNzY4ID0gTC5wb3B1cCh7bWF4V2lkdGg6ICcxMDAlJwogICAgICAgICAgICAKICAgICAgICAgICAgfSk7CgogICAgICAgICAgICAKICAgICAgICAgICAgICAgIHZhciBodG1sX2Q4YWM5NDM2Y2JlNzRjN2Q4ODMxMGM1NDNiMzkyOTkwID0gJChgPGRpdiBpZD0iaHRtbF9kOGFjOTQzNmNiZTc0YzdkODgzMTBjNTQzYjM5Mjk5MCIgc3R5bGU9IndpZHRoOiAxMDAuMCU7IGhlaWdodDogMTAwLjAlOyI+RWFzdCBUb3JvbnRvIC0gSW5kaWEgQmF6YWFyLCBUaGUgQmVhY2hlcyBXZXN0PC9kaXY+YClbMF07CiAgICAgICAgICAgICAgICBwb3B1cF9lNjVmNWZjMjk1NzI0NzMxYjkxYTc0MDRjODY2MTc2OC5zZXRDb250ZW50KGh0bWxfZDhhYzk0MzZjYmU3NGM3ZDg4MzEwYzU0M2IzOTI5OTApOwogICAgICAgICAgICAKCiAgICAgICAgICAgIGNpcmNsZV9tYXJrZXJfNTczODQzMzRjYTk3NGI1ODk3YzlkNjJhNGQ1NjY1YzYuYmluZFBvcHVwKHBvcHVwX2U2NWY1ZmMyOTU3MjQ3MzFiOTFhNzQwNGM4NjYxNzY4KQogICAgICAgICAgICA7CgogICAgICAgICAgICAKICAgICAgICAKICAgIAogICAgICAgICAgICB2YXIgY2lyY2xlX21hcmtlcl9jOTFiMmJiYmRlMDA0YmIwYTVjOWFkZDNlZGE0NmU5ZiA9IEwuY2lyY2xlTWFya2VyKAogICAgICAgICAgICAgICAgWzQzLjY1OTUyNTUsIC03OS4zNDA5MjNdLAogICAgICAgICAgICAgICAgewogICJidWJibGluZ01vdXNlRXZlbnRzIjogdHJ1ZSwKICAiY29sb3IiOiAiI0E0QTQ5RCIsCiAgImRhc2hBcnJheSI6IG51bGwsCiAgImRhc2hPZmZzZXQiOiBudWxsLAogICJmaWxsIjogdHJ1ZSwKICAiZmlsbENvbG9yIjogIiNBNEE0OUQiLAogICJmaWxsT3BhY2l0eSI6IDAuNywKICAiZmlsbFJ1bGUiOiAiZXZlbm9kZCIsCiAgImxpbmVDYXAiOiAicm91bmQiLAogICJsaW5lSm9pbiI6ICJyb3VuZCIsCiAgIm9wYWNpdHkiOiAxLjAsCiAgInJhZGl1cyI6IDUsCiAgInN0cm9rZSI6IHRydWUsCiAgIndlaWdodCI6IDMKfQogICAgICAgICAgICAgICAgKQogICAgICAgICAgICAgICAgLmFkZFRvKG1hcF9mNWM0NjgxOTU5YTE0ZTlkYTg0MTYxMjgzYmUyMmQzNSk7CiAgICAgICAgICAgIAogICAgCiAgICAgICAgICAgIHZhciBwb3B1cF80NTQyYzkwYjNlNjg0ZmVkYmIyZjJkMTgyOWE0YmU3NyA9IEwucG9wdXAoe21heFdpZHRoOiAnMTAwJScKICAgICAgICAgICAgCiAgICAgICAgICAgIH0pOwoKICAgICAgICAgICAgCiAgICAgICAgICAgICAgICB2YXIgaHRtbF80ZmNjZTg4M2ZjMzI0NDI1OTNhOTVmNTk4YWVkZGNlMSA9ICQoYDxkaXYgaWQ9Imh0bWxfNGZjY2U4ODNmYzMyNDQyNTkzYTk1ZjU5OGFlZGRjZTEiIHN0eWxlPSJ3aWR0aDogMTAwLjAlOyBoZWlnaHQ6IDEwMC4wJTsiPkVhc3QgVG9yb250byAtIFN0dWRpbyBEaXN0cmljdDwvZGl2PmApWzBdOwogICAgICAgICAgICAgICAgcG9wdXBfNDU0MmM5MGIzZTY4NGZlZGJiMmYyZDE4MjlhNGJlNzcuc2V0Q29udGVudChodG1sXzRmY2NlODgzZmMzMjQ0MjU5M2E5NWY1OThhZWRkY2UxKTsKICAgICAgICAgICAgCgogICAgICAgICAgICBjaXJjbGVfbWFya2VyX2M5MWIyYmJiZGUwMDRiYjBhNWM5YWRkM2VkYTQ2ZTlmLmJpbmRQb3B1cChwb3B1cF80NTQyYzkwYjNlNjg0ZmVkYmIyZjJkMTgyOWE0YmU3NykKICAgICAgICAgICAgOwoKICAgICAgICAgICAgCiAgICAgICAgCiAgICAKICAgICAgICAgICAgdmFyIGNpcmNsZV9tYXJrZXJfZmI4YWY3YTRiNGFlNDkwZGE1NTQxZjg3NWIxZTg0ZTAgPSBMLmNpcmNsZU1hcmtlcigKICAgICAgICAgICAgICAgIFs0My43MjgwMjA1LCAtNzkuMzg4NzkwMV0sCiAgICAgICAgICAgICAgICB7CiAgImJ1YmJsaW5nTW91c2VFdmVudHMiOiB0cnVlLAogICJjb2xvciI6ICIjRDNFODM4IiwKICAiZGFzaEFycmF5IjogbnVsbCwKICAiZGFzaE9mZnNldCI6IG51bGwsCiAgImZpbGwiOiB0cnVlLAogICJmaWxsQ29sb3IiOiAiI0QzRTgzOCIsCiAgImZpbGxPcGFjaXR5IjogMC43LAogICJmaWxsUnVsZSI6ICJldmVub2RkIiwKICAibGluZUNhcCI6ICJyb3VuZCIsCiAgImxpbmVKb2luIjogInJvdW5kIiwKICAib3BhY2l0eSI6IDEuMCwKICAicmFkaXVzIjogNSwKICAic3Ryb2tlIjogdHJ1ZSwKICAid2VpZ2h0IjogMwp9CiAgICAgICAgICAgICAgICApCiAgICAgICAgICAgICAgICAuYWRkVG8obWFwX2Y1YzQ2ODE5NTlhMTRlOWRhODQxNjEyODNiZTIyZDM1KTsKICAgICAgICAgICAgCiAgICAKICAgICAgICAgICAgdmFyIHBvcHVwXzc3ODdlYzMxM2Q1ZTRhY2Q4MWRiNWM2OWFlMWIyNjc3ID0gTC5wb3B1cCh7bWF4V2lkdGg6ICcxMDAlJwogICAgICAgICAgICAKICAgICAgICAgICAgfSk7CgogICAgICAgICAgICAKICAgICAgICAgICAgICAgIHZhciBodG1sX2U1ODAyMTg1ZGJhOTRjYzk4N2Y1Njc3ZTc2MWU3MTQ1ID0gJChgPGRpdiBpZD0iaHRtbF9lNTgwMjE4NWRiYTk0Y2M5ODdmNTY3N2U3NjFlNzE0NSIgc3R5bGU9IndpZHRoOiAxMDAuMCU7IGhlaWdodDogMTAwLjAlOyI+Q2VudHJhbCBUb3JvbnRvIC0gTGF3cmVuY2UgUGFyazwvZGl2PmApWzBdOwogICAgICAgICAgICAgICAgcG9wdXBfNzc4N2VjMzEzZDVlNGFjZDgxZGI1YzY5YWUxYjI2Nzcuc2V0Q29udGVudChodG1sX2U1ODAyMTg1ZGJhOTRjYzk4N2Y1Njc3ZTc2MWU3MTQ1KTsKICAgICAgICAgICAgCgogICAgICAgICAgICBjaXJjbGVfbWFya2VyX2ZiOGFmN2E0YjRhZTQ5MGRhNTU0MWY4NzViMWU4NGUwLmJpbmRQb3B1cChwb3B1cF83Nzg3ZWMzMTNkNWU0YWNkODFkYjVjNjlhZTFiMjY3NykKICAgICAgICAgICAgOwoKICAgICAgICAgICAgCiAgICAgICAgCiAgICAKICAgICAgICAgICAgdmFyIGNpcmNsZV9tYXJrZXJfNjgxY2ZjYWU0NzU1NGQ4YTg5N2Q4YTcxYWRiN2IzZjMgPSBMLmNpcmNsZU1hcmtlcigKICAgICAgICAgICAgICAgIFs0My43MTI3NTExLCAtNzkuMzkwMTk3NV0sCiAgICAgICAgICAgICAgICB7CiAgImJ1YmJsaW5nTW91c2VFdmVudHMiOiB0cnVlLAogICJjb2xvciI6ICIjRDNFODM4IiwKICAiZGFzaEFycmF5IjogbnVsbCwKICAiZGFzaE9mZnNldCI6IG51bGwsCiAgImZpbGwiOiB0cnVlLAogICJmaWxsQ29sb3IiOiAiI0QzRTgzOCIsCiAgImZpbGxPcGFjaXR5IjogMC43LAogICJmaWxsUnVsZSI6ICJldmVub2RkIiwKICAibGluZUNhcCI6ICJyb3VuZCIsCiAgImxpbmVKb2luIjogInJvdW5kIiwKICAib3BhY2l0eSI6IDEuMCwKICAicmFkaXVzIjogNSwKICAic3Ryb2tlIjogdHJ1ZSwKICAid2VpZ2h0IjogMwp9CiAgICAgICAgICAgICAgICApCiAgICAgICAgICAgICAgICAuYWRkVG8obWFwX2Y1YzQ2ODE5NTlhMTRlOWRhODQxNjEyODNiZTIyZDM1KTsKICAgICAgICAgICAgCiAgICAKICAgICAgICAgICAgdmFyIHBvcHVwX2EwNzIzM2E1ZTdlNzRkNzRiODg2ZmMxNjcwZmU2ZWFkID0gTC5wb3B1cCh7bWF4V2lkdGg6ICcxMDAlJwogICAgICAgICAgICAKICAgICAgICAgICAgfSk7CgogICAgICAgICAgICAKICAgICAgICAgICAgICAgIHZhciBodG1sX2EwYzE4ZjliYjkzNDQ5N2U5ZTljMjU2ODFmYTU3ODJiID0gJChgPGRpdiBpZD0iaHRtbF9hMGMxOGY5YmI5MzQ0OTdlOWU5YzI1NjgxZmE1NzgyYiIgc3R5bGU9IndpZHRoOiAxMDAuMCU7IGhlaWdodDogMTAwLjAlOyI+Q2VudHJhbCBUb3JvbnRvIC0gRGF2aXN2aWxsZSBOb3J0aDwvZGl2PmApWzBdOwogICAgICAgICAgICAgICAgcG9wdXBfYTA3MjMzYTVlN2U3NGQ3NGI4ODZmYzE2NzBmZTZlYWQuc2V0Q29udGVudChodG1sX2EwYzE4ZjliYjkzNDQ5N2U5ZTljMjU2ODFmYTU3ODJiKTsKICAgICAgICAgICAgCgogICAgICAgICAgICBjaXJjbGVfbWFya2VyXzY4MWNmY2FlNDc1NTRkOGE4OTdkOGE3MWFkYjdiM2YzLmJpbmRQb3B1cChwb3B1cF9hMDcyMzNhNWU3ZTc0ZDc0Yjg4NmZjMTY3MGZlNmVhZCkKICAgICAgICAgICAgOwoKICAgICAgICAgICAgCiAgICAgICAgCiAgICAKICAgICAgICAgICAgdmFyIGNpcmNsZV9tYXJrZXJfMzYxMDRjYTAyZjc1NGMwZmJiMGZhNmU4YWI4NzdmMDEgPSBMLmNpcmNsZU1hcmtlcigKICAgICAgICAgICAgICAgIFs0My43MTUzODM0LCAtNzkuNDA1Njc4NDAwMDAwMDFdLAogICAgICAgICAgICAgICAgewogICJidWJibGluZ01vdXNlRXZlbnRzIjogdHJ1ZSwKICAiY29sb3IiOiAiI0QzRTgzOCIsCiAgImRhc2hBcnJheSI6IG51bGwsCiAgImRhc2hPZmZzZXQiOiBudWxsLAogICJmaWxsIjogdHJ1ZSwKICAiZmlsbENvbG9yIjogIiNEM0U4MzgiLAogICJmaWxsT3BhY2l0eSI6IDAuNywKICAiZmlsbFJ1bGUiOiAiZXZlbm9kZCIsCiAgImxpbmVDYXAiOiAicm91bmQiLAogICJsaW5lSm9pbiI6ICJyb3VuZCIsCiAgIm9wYWNpdHkiOiAxLjAsCiAgInJhZGl1cyI6IDUsCiAgInN0cm9rZSI6IHRydWUsCiAgIndlaWdodCI6IDMKfQogICAgICAgICAgICAgICAgKQogICAgICAgICAgICAgICAgLmFkZFRvKG1hcF9mNWM0NjgxOTU5YTE0ZTlkYTg0MTYxMjgzYmUyMmQzNSk7CiAgICAgICAgICAgIAogICAgCiAgICAgICAgICAgIHZhciBwb3B1cF9kYjYwZTdlOGFlZjI0MjQ1YTFlYjY4ZTM5YzEyZTUxMiA9IEwucG9wdXAoe21heFdpZHRoOiAnMTAwJScKICAgICAgICAgICAgCiAgICAgICAgICAgIH0pOwoKICAgICAgICAgICAgCiAgICAgICAgICAgICAgICB2YXIgaHRtbF9kZjJiOTc3MTIyMzk0NjUyOTlmNTkzYThjYTYwNjg3MiA9ICQoYDxkaXYgaWQ9Imh0bWxfZGYyYjk3NzEyMjM5NDY1Mjk5ZjU5M2E4Y2E2MDY4NzIiIHN0eWxlPSJ3aWR0aDogMTAwLjAlOyBoZWlnaHQ6IDEwMC4wJTsiPkNlbnRyYWwgVG9yb250byAtIE5vcnRoIFRvcm9udG8gV2VzdCwgTGF3cmVuY2UgUGFyazwvZGl2PmApWzBdOwogICAgICAgICAgICAgICAgcG9wdXBfZGI2MGU3ZThhZWYyNDI0NWExZWI2OGUzOWMxMmU1MTIuc2V0Q29udGVudChodG1sX2RmMmI5NzcxMjIzOTQ2NTI5OWY1OTNhOGNhNjA2ODcyKTsKICAgICAgICAgICAgCgogICAgICAgICAgICBjaXJjbGVfbWFya2VyXzM2MTA0Y2EwMmY3NTRjMGZiYjBmYTZlOGFiODc3ZjAxLmJpbmRQb3B1cChwb3B1cF9kYjYwZTdlOGFlZjI0MjQ1YTFlYjY4ZTM5YzEyZTUxMikKICAgICAgICAgICAgOwoKICAgICAgICAgICAgCiAgICAgICAgCiAgICAKICAgICAgICAgICAgdmFyIGNpcmNsZV9tYXJrZXJfYjAwN2E3OTg3ODNkNGQ4NjljNGNmMDQ3MTVkMzFlMzEgPSBMLmNpcmNsZU1hcmtlcigKICAgICAgICAgICAgICAgIFs0My43MDQzMjQ0LCAtNzkuMzg4NzkwMV0sCiAgICAgICAgICAgICAgICB7CiAgImJ1YmJsaW5nTW91c2VFdmVudHMiOiB0cnVlLAogICJjb2xvciI6ICIjRDNFODM4IiwKICAiZGFzaEFycmF5IjogbnVsbCwKICAiZGFzaE9mZnNldCI6IG51bGwsCiAgImZpbGwiOiB0cnVlLAogICJmaWxsQ29sb3IiOiAiI0QzRTgzOCIsCiAgImZpbGxPcGFjaXR5IjogMC43LAogICJmaWxsUnVsZSI6ICJldmVub2RkIiwKICAibGluZUNhcCI6ICJyb3VuZCIsCiAgImxpbmVKb2luIjogInJvdW5kIiwKICAib3BhY2l0eSI6IDEuMCwKICAicmFkaXVzIjogNSwKICAic3Ryb2tlIjogdHJ1ZSwKICAid2VpZ2h0IjogMwp9CiAgICAgICAgICAgICAgICApCiAgICAgICAgICAgICAgICAuYWRkVG8obWFwX2Y1YzQ2ODE5NTlhMTRlOWRhODQxNjEyODNiZTIyZDM1KTsKICAgICAgICAgICAgCiAgICAKICAgICAgICAgICAgdmFyIHBvcHVwXzM2OWE1OTVkMzBhMTQ3ODBiYzE4NDZhMDg1NmU0OGU2ID0gTC5wb3B1cCh7bWF4V2lkdGg6ICcxMDAlJwogICAgICAgICAgICAKICAgICAgICAgICAgfSk7CgogICAgICAgICAgICAKICAgICAgICAgICAgICAgIHZhciBodG1sXzA3Y2E1NGI5NGI0YTRjOTdhMjlkMDI2YjI3ZWIxYmZjID0gJChgPGRpdiBpZD0iaHRtbF8wN2NhNTRiOTRiNGE0Yzk3YTI5ZDAyNmIyN2ViMWJmYyIgc3R5bGU9IndpZHRoOiAxMDAuMCU7IGhlaWdodDogMTAwLjAlOyI+Q2VudHJhbCBUb3JvbnRvIC0gRGF2aXN2aWxsZTwvZGl2PmApWzBdOwogICAgICAgICAgICAgICAgcG9wdXBfMzY5YTU5NWQzMGExNDc4MGJjMTg0NmEwODU2ZTQ4ZTYuc2V0Q29udGVudChodG1sXzA3Y2E1NGI5NGI0YTRjOTdhMjlkMDI2YjI3ZWIxYmZjKTsKICAgICAgICAgICAgCgogICAgICAgICAgICBjaXJjbGVfbWFya2VyX2IwMDdhNzk4NzgzZDRkODY5YzRjZjA0NzE1ZDMxZTMxLmJpbmRQb3B1cChwb3B1cF8zNjlhNTk1ZDMwYTE0NzgwYmMxODQ2YTA4NTZlNDhlNikKICAgICAgICAgICAgOwoKICAgICAgICAgICAgCiAgICAgICAgCiAgICAKICAgICAgICAgICAgdmFyIGNpcmNsZV9tYXJrZXJfZmJlOWE3YWU4NmE2NDA0MDg3MWE1NTM4MzBhZGNmZWYgPSBMLmNpcmNsZU1hcmtlcigKICAgICAgICAgICAgICAgIFs0My42ODk1NzQzLCAtNzkuMzgzMTU5OTAwMDAwMDJdLAogICAgICAgICAgICAgICAgewogICJidWJibGluZ01vdXNlRXZlbnRzIjogdHJ1ZSwKICAiY29sb3IiOiAiI0QzRTgzOCIsCiAgImRhc2hBcnJheSI6IG51bGwsCiAgImRhc2hPZmZzZXQiOiBudWxsLAogICJmaWxsIjogdHJ1ZSwKICAiZmlsbENvbG9yIjogIiNEM0U4MzgiLAogICJmaWxsT3BhY2l0eSI6IDAuNywKICAiZmlsbFJ1bGUiOiAiZXZlbm9kZCIsCiAgImxpbmVDYXAiOiAicm91bmQiLAogICJsaW5lSm9pbiI6ICJyb3VuZCIsCiAgIm9wYWNpdHkiOiAxLjAsCiAgInJhZGl1cyI6IDUsCiAgInN0cm9rZSI6IHRydWUsCiAgIndlaWdodCI6IDMKfQogICAgICAgICAgICAgICAgKQogICAgICAgICAgICAgICAgLmFkZFRvKG1hcF9mNWM0NjgxOTU5YTE0ZTlkYTg0MTYxMjgzYmUyMmQzNSk7CiAgICAgICAgICAgIAogICAgCiAgICAgICAgICAgIHZhciBwb3B1cF8zZDI0NjQ2ODlkZDE0OTJlYjg2N2ZkMDE1NDM1OTA4MiA9IEwucG9wdXAoe21heFdpZHRoOiAnMTAwJScKICAgICAgICAgICAgCiAgICAgICAgICAgIH0pOwoKICAgICAgICAgICAgCiAgICAgICAgICAgICAgICB2YXIgaHRtbF80NTg2NTg5NjYzZjY0N2QwYjQ0ZmY1ZTg0NjY4OGIwNyA9ICQoYDxkaXYgaWQ9Imh0bWxfNDU4NjU4OTY2M2Y2NDdkMGI0NGZmNWU4NDY2ODhiMDciIHN0eWxlPSJ3aWR0aDogMTAwLjAlOyBoZWlnaHQ6IDEwMC4wJTsiPkNlbnRyYWwgVG9yb250byAtIE1vb3JlIFBhcmssIFN1bW1lcmhpbGwgRWFzdDwvZGl2PmApWzBdOwogICAgICAgICAgICAgICAgcG9wdXBfM2QyNDY0Njg5ZGQxNDkyZWI4NjdmZDAxNTQzNTkwODIuc2V0Q29udGVudChodG1sXzQ1ODY1ODk2NjNmNjQ3ZDBiNDRmZjVlODQ2Njg4YjA3KTsKICAgICAgICAgICAgCgogICAgICAgICAgICBjaXJjbGVfbWFya2VyX2ZiZTlhN2FlODZhNjQwNDA4NzFhNTUzODMwYWRjZmVmLmJpbmRQb3B1cChwb3B1cF8zZDI0NjQ2ODlkZDE0OTJlYjg2N2ZkMDE1NDM1OTA4MikKICAgICAgICAgICAgOwoKICAgICAgICAgICAgCiAgICAgICAgCiAgICAKICAgICAgICAgICAgdmFyIGNpcmNsZV9tYXJrZXJfZDk1ODg2MjBlMTg4NDE5NzhhZGM2NzcwOThhYjczOTEgPSBMLmNpcmNsZU1hcmtlcigKICAgICAgICAgICAgICAgIFs0My42ODY0MTIyOTk5OTk5OSwgLTc5LjQwMDA0OTNdLAogICAgICAgICAgICAgICAgewogICJidWJibGluZ01vdXNlRXZlbnRzIjogdHJ1ZSwKICAiY29sb3IiOiAiI0QzRTgzOCIsCiAgImRhc2hBcnJheSI6IG51bGwsCiAgImRhc2hPZmZzZXQiOiBudWxsLAogICJmaWxsIjogdHJ1ZSwKICAiZmlsbENvbG9yIjogIiNEM0U4MzgiLAogICJmaWxsT3BhY2l0eSI6IDAuNywKICAiZmlsbFJ1bGUiOiAiZXZlbm9kZCIsCiAgImxpbmVDYXAiOiAicm91bmQiLAogICJsaW5lSm9pbiI6ICJyb3VuZCIsCiAgIm9wYWNpdHkiOiAxLjAsCiAgInJhZGl1cyI6IDUsCiAgInN0cm9rZSI6IHRydWUsCiAgIndlaWdodCI6IDMKfQogICAgICAgICAgICAgICAgKQogICAgICAgICAgICAgICAgLmFkZFRvKG1hcF9mNWM0NjgxOTU5YTE0ZTlkYTg0MTYxMjgzYmUyMmQzNSk7CiAgICAgICAgICAgIAogICAgCiAgICAgICAgICAgIHZhciBwb3B1cF9lMjU0ODU4NjM1N2U0M2NiOTIzYjQwM2I0MTA5ZGY0NyA9IEwucG9wdXAoe21heFdpZHRoOiAnMTAwJScKICAgICAgICAgICAgCiAgICAgICAgICAgIH0pOwoKICAgICAgICAgICAgCiAgICAgICAgICAgICAgICB2YXIgaHRtbF82NTFjMmE2YWE1YjI0MGMxOTU4NjdmOTA5MDc1NzIxOSA9ICQoYDxkaXYgaWQ9Imh0bWxfNjUxYzJhNmFhNWIyNDBjMTk1ODY3ZjkwOTA3NTcyMTkiIHN0eWxlPSJ3aWR0aDogMTAwLjAlOyBoZWlnaHQ6IDEwMC4wJTsiPkNlbnRyYWwgVG9yb250byAtIFN1bW1lcmhpbGwgV2VzdCwgUmF0aG5lbGx5LCBTb3V0aCBIaWxsLCBGb3Jlc3QgSGlsbCBTRSwgRGVlciBQYXJrPC9kaXY+YClbMF07CiAgICAgICAgICAgICAgICBwb3B1cF9lMjU0ODU4NjM1N2U0M2NiOTIzYjQwM2I0MTA5ZGY0Ny5zZXRDb250ZW50KGh0bWxfNjUxYzJhNmFhNWIyNDBjMTk1ODY3ZjkwOTA3NTcyMTkpOwogICAgICAgICAgICAKCiAgICAgICAgICAgIGNpcmNsZV9tYXJrZXJfZDk1ODg2MjBlMTg4NDE5NzhhZGM2NzcwOThhYjczOTEuYmluZFBvcHVwKHBvcHVwX2UyNTQ4NTg2MzU3ZTQzY2I5MjNiNDAzYjQxMDlkZjQ3KQogICAgICAgICAgICA7CgogICAgICAgICAgICAKICAgICAgICAKICAgIAogICAgICAgICAgICB2YXIgY2lyY2xlX21hcmtlcl85NGY5ODUxNGQ4OTE0NDg2OTYxM2U5OTIxYTY5OTc1MyA9IEwuY2lyY2xlTWFya2VyKAogICAgICAgICAgICAgICAgWzQzLjY3OTU2MjYsIC03OS4zNzc1Mjk0MDAwMDAwMV0sCiAgICAgICAgICAgICAgICB7CiAgImJ1YmJsaW5nTW91c2VFdmVudHMiOiB0cnVlLAogICJjb2xvciI6ICIjQjdBQUU5IiwKICAiZGFzaEFycmF5IjogbnVsbCwKICAiZGFzaE9mZnNldCI6IG51bGwsCiAgImZpbGwiOiB0cnVlLAogICJmaWxsQ29sb3IiOiAiI0I3QUFFOSIsCiAgImZpbGxPcGFjaXR5IjogMC43LAogICJmaWxsUnVsZSI6ICJldmVub2RkIiwKICAibGluZUNhcCI6ICJyb3VuZCIsCiAgImxpbmVKb2luIjogInJvdW5kIiwKICAib3BhY2l0eSI6IDEuMCwKICAicmFkaXVzIjogNSwKICAic3Ryb2tlIjogdHJ1ZSwKICAid2VpZ2h0IjogMwp9CiAgICAgICAgICAgICAgICApCiAgICAgICAgICAgICAgICAuYWRkVG8obWFwX2Y1YzQ2ODE5NTlhMTRlOWRhODQxNjEyODNiZTIyZDM1KTsKICAgICAgICAgICAgCiAgICAKICAgICAgICAgICAgdmFyIHBvcHVwXzgxMDE1YzRhMGM2ZTQ0MThhY2RiYjlmOWQyNWJmNzk2ID0gTC5wb3B1cCh7bWF4V2lkdGg6ICcxMDAlJwogICAgICAgICAgICAKICAgICAgICAgICAgfSk7CgogICAgICAgICAgICAKICAgICAgICAgICAgICAgIHZhciBodG1sX2Y5MDhiOGE0MTZiYzQzMDlhY2EzMmEwYjdhZjllMTM1ID0gJChgPGRpdiBpZD0iaHRtbF9mOTA4YjhhNDE2YmM0MzA5YWNhMzJhMGI3YWY5ZTEzNSIgc3R5bGU9IndpZHRoOiAxMDAuMCU7IGhlaWdodDogMTAwLjAlOyI+RG93bnRvd24gVG9yb250byAtIFJvc2VkYWxlPC9kaXY+YClbMF07CiAgICAgICAgICAgICAgICBwb3B1cF84MTAxNWM0YTBjNmU0NDE4YWNkYmI5ZjlkMjViZjc5Ni5zZXRDb250ZW50KGh0bWxfZjkwOGI4YTQxNmJjNDMwOWFjYTMyYTBiN2FmOWUxMzUpOwogICAgICAgICAgICAKCiAgICAgICAgICAgIGNpcmNsZV9tYXJrZXJfOTRmOTg1MTRkODkxNDQ4Njk2MTNlOTkyMWE2OTk3NTMuYmluZFBvcHVwKHBvcHVwXzgxMDE1YzRhMGM2ZTQ0MThhY2RiYjlmOWQyNWJmNzk2KQogICAgICAgICAgICA7CgogICAgICAgICAgICAKICAgICAgICAKICAgIAogICAgICAgICAgICB2YXIgY2lyY2xlX21hcmtlcl80ZmY1MjdkNDRhOWE0NjQwODRmYTkwZDZhNWJkMDk0MSA9IEwuY2lyY2xlTWFya2VyKAogICAgICAgICAgICAgICAgWzQzLjY2Nzk2NywgLTc5LjM2NzY3NTNdLAogICAgICAgICAgICAgICAgewogICJidWJibGluZ01vdXNlRXZlbnRzIjogdHJ1ZSwKICAiY29sb3IiOiAiI0I3QUFFOSIsCiAgImRhc2hBcnJheSI6IG51bGwsCiAgImRhc2hPZmZzZXQiOiBudWxsLAogICJmaWxsIjogdHJ1ZSwKICAiZmlsbENvbG9yIjogIiNCN0FBRTkiLAogICJmaWxsT3BhY2l0eSI6IDAuNywKICAiZmlsbFJ1bGUiOiAiZXZlbm9kZCIsCiAgImxpbmVDYXAiOiAicm91bmQiLAogICJsaW5lSm9pbiI6ICJyb3VuZCIsCiAgIm9wYWNpdHkiOiAxLjAsCiAgInJhZGl1cyI6IDUsCiAgInN0cm9rZSI6IHRydWUsCiAgIndlaWdodCI6IDMKfQogICAgICAgICAgICAgICAgKQogICAgICAgICAgICAgICAgLmFkZFRvKG1hcF9mNWM0NjgxOTU5YTE0ZTlkYTg0MTYxMjgzYmUyMmQzNSk7CiAgICAgICAgICAgIAogICAgCiAgICAgICAgICAgIHZhciBwb3B1cF9jYWY5Mjk5OWI3Mzk0YjYxYWI3MmEyYzhmYzhkYmEwNCA9IEwucG9wdXAoe21heFdpZHRoOiAnMTAwJScKICAgICAgICAgICAgCiAgICAgICAgICAgIH0pOwoKICAgICAgICAgICAgCiAgICAgICAgICAgICAgICB2YXIgaHRtbF8xN2VjOGQ1YWZhMDU0NmU0OGRmNjdhODQxMTY4MWJjMCA9ICQoYDxkaXYgaWQ9Imh0bWxfMTdlYzhkNWFmYTA1NDZlNDhkZjY3YTg0MTE2ODFiYzAiIHN0eWxlPSJ3aWR0aDogMTAwLjAlOyBoZWlnaHQ6IDEwMC4wJTsiPkRvd250b3duIFRvcm9udG8gLSBTdC4gSmFtZXMgVG93biwgQ2FiYmFnZXRvd248L2Rpdj5gKVswXTsKICAgICAgICAgICAgICAgIHBvcHVwX2NhZjkyOTk5YjczOTRiNjFhYjcyYTJjOGZjOGRiYTA0LnNldENvbnRlbnQoaHRtbF8xN2VjOGQ1YWZhMDU0NmU0OGRmNjdhODQxMTY4MWJjMCk7CiAgICAgICAgICAgIAoKICAgICAgICAgICAgY2lyY2xlX21hcmtlcl80ZmY1MjdkNDRhOWE0NjQwODRmYTkwZDZhNWJkMDk0MS5iaW5kUG9wdXAocG9wdXBfY2FmOTI5OTliNzM5NGI2MWFiNzJhMmM4ZmM4ZGJhMDQpCiAgICAgICAgICAgIDsKCiAgICAgICAgICAgIAogICAgICAgIAogICAgCiAgICAgICAgICAgIHZhciBjaXJjbGVfbWFya2VyX2Y0MzkyMjVjZThiMDQwOGQ4OGM2ZmQ0MGIwZDVkMGYyID0gTC5jaXJjbGVNYXJrZXIoCiAgICAgICAgICAgICAgICBbNDMuNjY1ODU5OSwgLTc5LjM4MzE1OTkwMDAwMDAyXSwKICAgICAgICAgICAgICAgIHsKICAiYnViYmxpbmdNb3VzZUV2ZW50cyI6IHRydWUsCiAgImNvbG9yIjogIiNCN0FBRTkiLAogICJkYXNoQXJyYXkiOiBudWxsLAogICJkYXNoT2Zmc2V0IjogbnVsbCwKICAiZmlsbCI6IHRydWUsCiAgImZpbGxDb2xvciI6ICIjQjdBQUU5IiwKICAiZmlsbE9wYWNpdHkiOiAwLjcsCiAgImZpbGxSdWxlIjogImV2ZW5vZGQiLAogICJsaW5lQ2FwIjogInJvdW5kIiwKICAibGluZUpvaW4iOiAicm91bmQiLAogICJvcGFjaXR5IjogMS4wLAogICJyYWRpdXMiOiA1LAogICJzdHJva2UiOiB0cnVlLAogICJ3ZWlnaHQiOiAzCn0KICAgICAgICAgICAgICAgICkKICAgICAgICAgICAgICAgIC5hZGRUbyhtYXBfZjVjNDY4MTk1OWExNGU5ZGE4NDE2MTI4M2JlMjJkMzUpOwogICAgICAgICAgICAKICAgIAogICAgICAgICAgICB2YXIgcG9wdXBfODAxN2UwYWE2OGQxNDEwNTgyZTA2MTc5ZDM4MWI4OWIgPSBMLnBvcHVwKHttYXhXaWR0aDogJzEwMCUnCiAgICAgICAgICAgIAogICAgICAgICAgICB9KTsKCiAgICAgICAgICAgIAogICAgICAgICAgICAgICAgdmFyIGh0bWxfM2EwZDUyM2NhNWIzNGEzMmJmNDRkMjhlMjZlOGVjMDMgPSAkKGA8ZGl2IGlkPSJodG1sXzNhMGQ1MjNjYTViMzRhMzJiZjQ0ZDI4ZTI2ZThlYzAzIiBzdHlsZT0id2lkdGg6IDEwMC4wJTsgaGVpZ2h0OiAxMDAuMCU7Ij5Eb3dudG93biBUb3JvbnRvIC0gQ2h1cmNoIGFuZCBXZWxsZXNsZXk8L2Rpdj5gKVswXTsKICAgICAgICAgICAgICAgIHBvcHVwXzgwMTdlMGFhNjhkMTQxMDU4MmUwNjE3OWQzODFiODliLnNldENvbnRlbnQoaHRtbF8zYTBkNTIzY2E1YjM0YTMyYmY0NGQyOGUyNmU4ZWMwMyk7CiAgICAgICAgICAgIAoKICAgICAgICAgICAgY2lyY2xlX21hcmtlcl9mNDM5MjI1Y2U4YjA0MDhkODhjNmZkNDBiMGQ1ZDBmMi5iaW5kUG9wdXAocG9wdXBfODAxN2UwYWE2OGQxNDEwNTgyZTA2MTc5ZDM4MWI4OWIpCiAgICAgICAgICAgIDsKCiAgICAgICAgICAgIAogICAgICAgIAogICAgCiAgICAgICAgICAgIHZhciBjaXJjbGVfbWFya2VyX2MyMDBmOWRhNTE4MTQ3NGNiMjc3YTUzZWExN2E0ZWM3ID0gTC5jaXJjbGVNYXJrZXIoCiAgICAgICAgICAgICAgICBbNDMuNjU0MjU5OSwgLTc5LjM2MDYzNTldLAogICAgICAgICAgICAgICAgewogICJidWJibGluZ01vdXNlRXZlbnRzIjogdHJ1ZSwKICAiY29sb3IiOiAiI0I3QUFFOSIsCiAgImRhc2hBcnJheSI6IG51bGwsCiAgImRhc2hPZmZzZXQiOiBudWxsLAogICJmaWxsIjogdHJ1ZSwKICAiZmlsbENvbG9yIjogIiNCN0FBRTkiLAogICJmaWxsT3BhY2l0eSI6IDAuNywKICAiZmlsbFJ1bGUiOiAiZXZlbm9kZCIsCiAgImxpbmVDYXAiOiAicm91bmQiLAogICJsaW5lSm9pbiI6ICJyb3VuZCIsCiAgIm9wYWNpdHkiOiAxLjAsCiAgInJhZGl1cyI6IDUsCiAgInN0cm9rZSI6IHRydWUsCiAgIndlaWdodCI6IDMKfQogICAgICAgICAgICAgICAgKQogICAgICAgICAgICAgICAgLmFkZFRvKG1hcF9mNWM0NjgxOTU5YTE0ZTlkYTg0MTYxMjgzYmUyMmQzNSk7CiAgICAgICAgICAgIAogICAgCiAgICAgICAgICAgIHZhciBwb3B1cF9iMDNkYjdhNWI2OWY0MzNkYmEzMTZiMzBiZTlhMDc1OCA9IEwucG9wdXAoe21heFdpZHRoOiAnMTAwJScKICAgICAgICAgICAgCiAgICAgICAgICAgIH0pOwoKICAgICAgICAgICAgCiAgICAgICAgICAgICAgICB2YXIgaHRtbF9mYTgwZGY1MDMwYzQ0MTkzOTEzYTRmODAyMmYxMzdmNyA9ICQoYDxkaXYgaWQ9Imh0bWxfZmE4MGRmNTAzMGM0NDE5MzkxM2E0ZjgwMjJmMTM3ZjciIHN0eWxlPSJ3aWR0aDogMTAwLjAlOyBoZWlnaHQ6IDEwMC4wJTsiPkRvd250b3duIFRvcm9udG8gLSBSZWdlbnQgUGFyaywgSGFyYm91cmZyb250PC9kaXY+YClbMF07CiAgICAgICAgICAgICAgICBwb3B1cF9iMDNkYjdhNWI2OWY0MzNkYmEzMTZiMzBiZTlhMDc1OC5zZXRDb250ZW50KGh0bWxfZmE4MGRmNTAzMGM0NDE5MzkxM2E0ZjgwMjJmMTM3ZjcpOwogICAgICAgICAgICAKCiAgICAgICAgICAgIGNpcmNsZV9tYXJrZXJfYzIwMGY5ZGE1MTgxNDc0Y2IyNzdhNTNlYTE3YTRlYzcuYmluZFBvcHVwKHBvcHVwX2IwM2RiN2E1YjY5ZjQzM2RiYTMxNmIzMGJlOWEwNzU4KQogICAgICAgICAgICA7CgogICAgICAgICAgICAKICAgICAgICAKICAgIAogICAgICAgICAgICB2YXIgY2lyY2xlX21hcmtlcl82OWEyOWUwZDAxYjg0NGE3ODBhYWIzMWJjNTM1NDYyMiA9IEwuY2lyY2xlTWFya2VyKAogICAgICAgICAgICAgICAgWzQzLjY1NzE2MTgsIC03OS4zNzg5MzcwOTk5OTk5OV0sCiAgICAgICAgICAgICAgICB7CiAgImJ1YmJsaW5nTW91c2VFdmVudHMiOiB0cnVlLAogICJjb2xvciI6ICIjQjdBQUU5IiwKICAiZGFzaEFycmF5IjogbnVsbCwKICAiZGFzaE9mZnNldCI6IG51bGwsCiAgImZpbGwiOiB0cnVlLAogICJmaWxsQ29sb3IiOiAiI0I3QUFFOSIsCiAgImZpbGxPcGFjaXR5IjogMC43LAogICJmaWxsUnVsZSI6ICJldmVub2RkIiwKICAibGluZUNhcCI6ICJyb3VuZCIsCiAgImxpbmVKb2luIjogInJvdW5kIiwKICAib3BhY2l0eSI6IDEuMCwKICAicmFkaXVzIjogNSwKICAic3Ryb2tlIjogdHJ1ZSwKICAid2VpZ2h0IjogMwp9CiAgICAgICAgICAgICAgICApCiAgICAgICAgICAgICAgICAuYWRkVG8obWFwX2Y1YzQ2ODE5NTlhMTRlOWRhODQxNjEyODNiZTIyZDM1KTsKICAgICAgICAgICAgCiAgICAKICAgICAgICAgICAgdmFyIHBvcHVwX2ZkNDkyMzBkNzlkNTRlMThhNWU0NmZmYTllYWMzYWRjID0gTC5wb3B1cCh7bWF4V2lkdGg6ICcxMDAlJwogICAgICAgICAgICAKICAgICAgICAgICAgfSk7CgogICAgICAgICAgICAKICAgICAgICAgICAgICAgIHZhciBodG1sXzJmZjc5OTQ5YTJhZTRkYWQ4ZGY4YjMxOWY1YTU5M2RjID0gJChgPGRpdiBpZD0iaHRtbF8yZmY3OTk0OWEyYWU0ZGFkOGRmOGIzMTlmNWE1OTNkYyIgc3R5bGU9IndpZHRoOiAxMDAuMCU7IGhlaWdodDogMTAwLjAlOyI+RG93bnRvd24gVG9yb250byAtIEdhcmRlbiBEaXN0cmljdCwgUnllcnNvbjwvZGl2PmApWzBdOwogICAgICAgICAgICAgICAgcG9wdXBfZmQ0OTIzMGQ3OWQ1NGUxOGE1ZTQ2ZmZhOWVhYzNhZGMuc2V0Q29udGVudChodG1sXzJmZjc5OTQ5YTJhZTRkYWQ4ZGY4YjMxOWY1YTU5M2RjKTsKICAgICAgICAgICAgCgogICAgICAgICAgICBjaXJjbGVfbWFya2VyXzY5YTI5ZTBkMDFiODQ0YTc4MGFhYjMxYmM1MzU0NjIyLmJpbmRQb3B1cChwb3B1cF9mZDQ5MjMwZDc5ZDU0ZTE4YTVlNDZmZmE5ZWFjM2FkYykKICAgICAgICAgICAgOwoKICAgICAgICAgICAgCiAgICAgICAgCiAgICAKICAgICAgICAgICAgdmFyIGNpcmNsZV9tYXJrZXJfNjMxYjM2NWJiYWNhNDlkYThkYmM2ZTQ5ZGFhMWIzOWUgPSBMLmNpcmNsZU1hcmtlcigKICAgICAgICAgICAgICAgIFs0My42NTE0OTM5LCAtNzkuMzc1NDE3OV0sCiAgICAgICAgICAgICAgICB7CiAgImJ1YmJsaW5nTW91c2VFdmVudHMiOiB0cnVlLAogICJjb2xvciI6ICIjQjdBQUU5IiwKICAiZGFzaEFycmF5IjogbnVsbCwKICAiZGFzaE9mZnNldCI6IG51bGwsCiAgImZpbGwiOiB0cnVlLAogICJmaWxsQ29sb3IiOiAiI0I3QUFFOSIsCiAgImZpbGxPcGFjaXR5IjogMC43LAogICJmaWxsUnVsZSI6ICJldmVub2RkIiwKICAibGluZUNhcCI6ICJyb3VuZCIsCiAgImxpbmVKb2luIjogInJvdW5kIiwKICAib3BhY2l0eSI6IDEuMCwKICAicmFkaXVzIjogNSwKICAic3Ryb2tlIjogdHJ1ZSwKICAid2VpZ2h0IjogMwp9CiAgICAgICAgICAgICAgICApCiAgICAgICAgICAgICAgICAuYWRkVG8obWFwX2Y1YzQ2ODE5NTlhMTRlOWRhODQxNjEyODNiZTIyZDM1KTsKICAgICAgICAgICAgCiAgICAKICAgICAgICAgICAgdmFyIHBvcHVwX2Y4OWZhYzlhMjY2YjRlNzJhNmQ1ZDgyZDBlODllYjY5ID0gTC5wb3B1cCh7bWF4V2lkdGg6ICcxMDAlJwogICAgICAgICAgICAKICAgICAgICAgICAgfSk7CgogICAgICAgICAgICAKICAgICAgICAgICAgICAgIHZhciBodG1sX2Q4ZmY4OTRhMzBjYjRjZjQ4ZTRiMWVhMjYyZGY4YWQwID0gJChgPGRpdiBpZD0iaHRtbF9kOGZmODk0YTMwY2I0Y2Y0OGU0YjFlYTI2MmRmOGFkMCIgc3R5bGU9IndpZHRoOiAxMDAuMCU7IGhlaWdodDogMTAwLjAlOyI+RG93bnRvd24gVG9yb250byAtIFN0LiBKYW1lcyBUb3duPC9kaXY+YClbMF07CiAgICAgICAgICAgICAgICBwb3B1cF9mODlmYWM5YTI2NmI0ZTcyYTZkNWQ4MmQwZTg5ZWI2OS5zZXRDb250ZW50KGh0bWxfZDhmZjg5NGEzMGNiNGNmNDhlNGIxZWEyNjJkZjhhZDApOwogICAgICAgICAgICAKCiAgICAgICAgICAgIGNpcmNsZV9tYXJrZXJfNjMxYjM2NWJiYWNhNDlkYThkYmM2ZTQ5ZGFhMWIzOWUuYmluZFBvcHVwKHBvcHVwX2Y4OWZhYzlhMjY2YjRlNzJhNmQ1ZDgyZDBlODllYjY5KQogICAgICAgICAgICA7CgogICAgICAgICAgICAKICAgICAgICAKICAgIAogICAgICAgICAgICB2YXIgY2lyY2xlX21hcmtlcl82MDYwMzM5MGI0MGY0OGY5YTBjNGVmOWE4YmQ3YzkzYiA9IEwuY2lyY2xlTWFya2VyKAogICAgICAgICAgICAgICAgWzQzLjY0NDc3MDgsIC03OS4zNzMzMDY0XSwKICAgICAgICAgICAgICAgIHsKICAiYnViYmxpbmdNb3VzZUV2ZW50cyI6IHRydWUsCiAgImNvbG9yIjogIiNCN0FBRTkiLAogICJkYXNoQXJyYXkiOiBudWxsLAogICJkYXNoT2Zmc2V0IjogbnVsbCwKICAiZmlsbCI6IHRydWUsCiAgImZpbGxDb2xvciI6ICIjQjdBQUU5IiwKICAiZmlsbE9wYWNpdHkiOiAwLjcsCiAgImZpbGxSdWxlIjogImV2ZW5vZGQiLAogICJsaW5lQ2FwIjogInJvdW5kIiwKICAibGluZUpvaW4iOiAicm91bmQiLAogICJvcGFjaXR5IjogMS4wLAogICJyYWRpdXMiOiA1LAogICJzdHJva2UiOiB0cnVlLAogICJ3ZWlnaHQiOiAzCn0KICAgICAgICAgICAgICAgICkKICAgICAgICAgICAgICAgIC5hZGRUbyhtYXBfZjVjNDY4MTk1OWExNGU5ZGE4NDE2MTI4M2JlMjJkMzUpOwogICAgICAgICAgICAKICAgIAogICAgICAgICAgICB2YXIgcG9wdXBfN2M3NTBkYjg1YmM1NGJkMDkzYzdkMjg1Nzg2ODFkY2MgPSBMLnBvcHVwKHttYXhXaWR0aDogJzEwMCUnCiAgICAgICAgICAgIAogICAgICAgICAgICB9KTsKCiAgICAgICAgICAgIAogICAgICAgICAgICAgICAgdmFyIGh0bWxfZjllYzI0NDQ3Y2YyNDNmMjkzNjUzOTlkZDdhNjEwMmUgPSAkKGA8ZGl2IGlkPSJodG1sX2Y5ZWMyNDQ0N2NmMjQzZjI5MzY1Mzk5ZGQ3YTYxMDJlIiBzdHlsZT0id2lkdGg6IDEwMC4wJTsgaGVpZ2h0OiAxMDAuMCU7Ij5Eb3dudG93biBUb3JvbnRvIC0gQmVyY3p5IFBhcms8L2Rpdj5gKVswXTsKICAgICAgICAgICAgICAgIHBvcHVwXzdjNzUwZGI4NWJjNTRiZDA5M2M3ZDI4NTc4NjgxZGNjLnNldENvbnRlbnQoaHRtbF9mOWVjMjQ0NDdjZjI0M2YyOTM2NTM5OWRkN2E2MTAyZSk7CiAgICAgICAgICAgIAoKICAgICAgICAgICAgY2lyY2xlX21hcmtlcl82MDYwMzM5MGI0MGY0OGY5YTBjNGVmOWE4YmQ3YzkzYi5iaW5kUG9wdXAocG9wdXBfN2M3NTBkYjg1YmM1NGJkMDkzYzdkMjg1Nzg2ODFkY2MpCiAgICAgICAgICAgIDsKCiAgICAgICAgICAgIAogICAgICAgIAogICAgCiAgICAgICAgICAgIHZhciBjaXJjbGVfbWFya2VyXzgwNWY4ZjBhNWE4MjQ1MmZiYjAzY2Q5NWJkMWUyZjllID0gTC5jaXJjbGVNYXJrZXIoCiAgICAgICAgICAgICAgICBbNDMuNjU3OTUyNCwgLTc5LjM4NzM4MjZdLAogICAgICAgICAgICAgICAgewogICJidWJibGluZ01vdXNlRXZlbnRzIjogdHJ1ZSwKICAiY29sb3IiOiAiI0I3QUFFOSIsCiAgImRhc2hBcnJheSI6IG51bGwsCiAgImRhc2hPZmZzZXQiOiBudWxsLAogICJmaWxsIjogdHJ1ZSwKICAiZmlsbENvbG9yIjogIiNCN0FBRTkiLAogICJmaWxsT3BhY2l0eSI6IDAuNywKICAiZmlsbFJ1bGUiOiAiZXZlbm9kZCIsCiAgImxpbmVDYXAiOiAicm91bmQiLAogICJsaW5lSm9pbiI6ICJyb3VuZCIsCiAgIm9wYWNpdHkiOiAxLjAsCiAgInJhZGl1cyI6IDUsCiAgInN0cm9rZSI6IHRydWUsCiAgIndlaWdodCI6IDMKfQogICAgICAgICAgICAgICAgKQogICAgICAgICAgICAgICAgLmFkZFRvKG1hcF9mNWM0NjgxOTU5YTE0ZTlkYTg0MTYxMjgzYmUyMmQzNSk7CiAgICAgICAgICAgIAogICAgCiAgICAgICAgICAgIHZhciBwb3B1cF9jNDI3ZjExYTdhZWU0OTJhYTYzZGM0YWVlYzA3OTJlZSA9IEwucG9wdXAoe21heFdpZHRoOiAnMTAwJScKICAgICAgICAgICAgCiAgICAgICAgICAgIH0pOwoKICAgICAgICAgICAgCiAgICAgICAgICAgICAgICB2YXIgaHRtbF84MzViN2U4OTUxMDc0NzEyYjE0YTZlOWFkN2M3OGJmNCA9ICQoYDxkaXYgaWQ9Imh0bWxfODM1YjdlODk1MTA3NDcxMmIxNGE2ZTlhZDdjNzhiZjQiIHN0eWxlPSJ3aWR0aDogMTAwLjAlOyBoZWlnaHQ6IDEwMC4wJTsiPkRvd250b3duIFRvcm9udG8gLSBDZW50cmFsIEJheSBTdHJlZXQ8L2Rpdj5gKVswXTsKICAgICAgICAgICAgICAgIHBvcHVwX2M0MjdmMTFhN2FlZTQ5MmFhNjNkYzRhZWVjMDc5MmVlLnNldENvbnRlbnQoaHRtbF84MzViN2U4OTUxMDc0NzEyYjE0YTZlOWFkN2M3OGJmNCk7CiAgICAgICAgICAgIAoKICAgICAgICAgICAgY2lyY2xlX21hcmtlcl84MDVmOGYwYTVhODI0NTJmYmIwM2NkOTViZDFlMmY5ZS5iaW5kUG9wdXAocG9wdXBfYzQyN2YxMWE3YWVlNDkyYWE2M2RjNGFlZWMwNzkyZWUpCiAgICAgICAgICAgIDsKCiAgICAgICAgICAgIAogICAgICAgIAogICAgCiAgICAgICAgICAgIHZhciBjaXJjbGVfbWFya2VyX2RlYzQ1MTE3NzZkNTRiNDNiOTRiNTA5NWQ5MjUxOWYxID0gTC5jaXJjbGVNYXJrZXIoCiAgICAgICAgICAgICAgICBbNDMuNjUwNTcxMjAwMDAwMDEsIC03OS4zODQ1Njc1XSwKICAgICAgICAgICAgICAgIHsKICAiYnViYmxpbmdNb3VzZUV2ZW50cyI6IHRydWUsCiAgImNvbG9yIjogIiNCN0FBRTkiLAogICJkYXNoQXJyYXkiOiBudWxsLAogICJkYXNoT2Zmc2V0IjogbnVsbCwKICAiZmlsbCI6IHRydWUsCiAgImZpbGxDb2xvciI6ICIjQjdBQUU5IiwKICAiZmlsbE9wYWNpdHkiOiAwLjcsCiAgImZpbGxSdWxlIjogImV2ZW5vZGQiLAogICJsaW5lQ2FwIjogInJvdW5kIiwKICAibGluZUpvaW4iOiAicm91bmQiLAogICJvcGFjaXR5IjogMS4wLAogICJyYWRpdXMiOiA1LAogICJzdHJva2UiOiB0cnVlLAogICJ3ZWlnaHQiOiAzCn0KICAgICAgICAgICAgICAgICkKICAgICAgICAgICAgICAgIC5hZGRUbyhtYXBfZjVjNDY4MTk1OWExNGU5ZGE4NDE2MTI4M2JlMjJkMzUpOwogICAgICAgICAgICAKICAgIAogICAgICAgICAgICB2YXIgcG9wdXBfYjM4Y2M0NGE5ZmJmNDMyOTk4MTc1YTNhOTU3MTY4MDMgPSBMLnBvcHVwKHttYXhXaWR0aDogJzEwMCUnCiAgICAgICAgICAgIAogICAgICAgICAgICB9KTsKCiAgICAgICAgICAgIAogICAgICAgICAgICAgICAgdmFyIGh0bWxfNjEyZGIzNDgzMjk0NDdmZTk1MjVjMTBlZWFhNzllMGIgPSAkKGA8ZGl2IGlkPSJodG1sXzYxMmRiMzQ4MzI5NDQ3ZmU5NTI1YzEwZWVhYTc5ZTBiIiBzdHlsZT0id2lkdGg6IDEwMC4wJTsgaGVpZ2h0OiAxMDAuMCU7Ij5Eb3dudG93biBUb3JvbnRvIC0gUmljaG1vbmQsIEFkZWxhaWRlLCBLaW5nPC9kaXY+YClbMF07CiAgICAgICAgICAgICAgICBwb3B1cF9iMzhjYzQ0YTlmYmY0MzI5OTgxNzVhM2E5NTcxNjgwMy5zZXRDb250ZW50KGh0bWxfNjEyZGIzNDgzMjk0NDdmZTk1MjVjMTBlZWFhNzllMGIpOwogICAgICAgICAgICAKCiAgICAgICAgICAgIGNpcmNsZV9tYXJrZXJfZGVjNDUxMTc3NmQ1NGI0M2I5NGI1MDk1ZDkyNTE5ZjEuYmluZFBvcHVwKHBvcHVwX2IzOGNjNDRhOWZiZjQzMjk5ODE3NWEzYTk1NzE2ODAzKQogICAgICAgICAgICA7CgogICAgICAgICAgICAKICAgICAgICAKICAgIAogICAgICAgICAgICB2YXIgY2lyY2xlX21hcmtlcl84MjE0Y2U3OGYzZGE0ZjhkYTg0N2NiNzU3YjIzODQ3MiA9IEwuY2lyY2xlTWFya2VyKAogICAgICAgICAgICAgICAgWzQzLjY0MDgxNTcsIC03OS4zODE3NTIyOTk5OTk5N10sCiAgICAgICAgICAgICAgICB7CiAgImJ1YmJsaW5nTW91c2VFdmVudHMiOiB0cnVlLAogICJjb2xvciI6ICIjQjdBQUU5IiwKICAiZGFzaEFycmF5IjogbnVsbCwKICAiZGFzaE9mZnNldCI6IG51bGwsCiAgImZpbGwiOiB0cnVlLAogICJmaWxsQ29sb3IiOiAiI0I3QUFFOSIsCiAgImZpbGxPcGFjaXR5IjogMC43LAogICJmaWxsUnVsZSI6ICJldmVub2RkIiwKICAibGluZUNhcCI6ICJyb3VuZCIsCiAgImxpbmVKb2luIjogInJvdW5kIiwKICAib3BhY2l0eSI6IDEuMCwKICAicmFkaXVzIjogNSwKICAic3Ryb2tlIjogdHJ1ZSwKICAid2VpZ2h0IjogMwp9CiAgICAgICAgICAgICAgICApCiAgICAgICAgICAgICAgICAuYWRkVG8obWFwX2Y1YzQ2ODE5NTlhMTRlOWRhODQxNjEyODNiZTIyZDM1KTsKICAgICAgICAgICAgCiAgICAKICAgICAgICAgICAgdmFyIHBvcHVwX2JmYjNiOWYwMGYzNzQ0M2Y5YTNiMzFmYmUzNjAzM2ZhID0gTC5wb3B1cCh7bWF4V2lkdGg6ICcxMDAlJwogICAgICAgICAgICAKICAgICAgICAgICAgfSk7CgogICAgICAgICAgICAKICAgICAgICAgICAgICAgIHZhciBodG1sX2YwMzU2NTBiYjVkNTQ4MmI4M2EwNWQxMjYxN2ZkNjNiID0gJChgPGRpdiBpZD0iaHRtbF9mMDM1NjUwYmI1ZDU0ODJiODNhMDVkMTI2MTdmZDYzYiIgc3R5bGU9IndpZHRoOiAxMDAuMCU7IGhlaWdodDogMTAwLjAlOyI+RG93bnRvd24gVG9yb250byAtIEhhcmJvdXJmcm9udCBFYXN0LCBVbmlvbiBTdGF0aW9uLCBUb3JvbnRvIElzbGFuZHM8L2Rpdj5gKVswXTsKICAgICAgICAgICAgICAgIHBvcHVwX2JmYjNiOWYwMGYzNzQ0M2Y5YTNiMzFmYmUzNjAzM2ZhLnNldENvbnRlbnQoaHRtbF9mMDM1NjUwYmI1ZDU0ODJiODNhMDVkMTI2MTdmZDYzYik7CiAgICAgICAgICAgIAoKICAgICAgICAgICAgY2lyY2xlX21hcmtlcl84MjE0Y2U3OGYzZGE0ZjhkYTg0N2NiNzU3YjIzODQ3Mi5iaW5kUG9wdXAocG9wdXBfYmZiM2I5ZjAwZjM3NDQzZjlhM2IzMWZiZTM2MDMzZmEpCiAgICAgICAgICAgIDsKCiAgICAgICAgICAgIAogICAgICAgIAogICAgCiAgICAgICAgICAgIHZhciBjaXJjbGVfbWFya2VyXzM4YjNkNTZiODcyYjRiMjRhZGE5YTBmMDM5MWUzYjU0ID0gTC5jaXJjbGVNYXJrZXIoCiAgICAgICAgICAgICAgICBbNDMuNjQ3MTc2OCwgLTc5LjM4MTU3NjQwMDAwMDAxXSwKICAgICAgICAgICAgICAgIHsKICAiYnViYmxpbmdNb3VzZUV2ZW50cyI6IHRydWUsCiAgImNvbG9yIjogIiNCN0FBRTkiLAogICJkYXNoQXJyYXkiOiBudWxsLAogICJkYXNoT2Zmc2V0IjogbnVsbCwKICAiZmlsbCI6IHRydWUsCiAgImZpbGxDb2xvciI6ICIjQjdBQUU5IiwKICAiZmlsbE9wYWNpdHkiOiAwLjcsCiAgImZpbGxSdWxlIjogImV2ZW5vZGQiLAogICJsaW5lQ2FwIjogInJvdW5kIiwKICAibGluZUpvaW4iOiAicm91bmQiLAogICJvcGFjaXR5IjogMS4wLAogICJyYWRpdXMiOiA1LAogICJzdHJva2UiOiB0cnVlLAogICJ3ZWlnaHQiOiAzCn0KICAgICAgICAgICAgICAgICkKICAgICAgICAgICAgICAgIC5hZGRUbyhtYXBfZjVjNDY4MTk1OWExNGU5ZGE4NDE2MTI4M2JlMjJkMzUpOwogICAgICAgICAgICAKICAgIAogICAgICAgICAgICB2YXIgcG9wdXBfOTYzMDhjMDUyZDE4NDFjNzgxMzhkNTA2M2E5NmM4YzYgPSBMLnBvcHVwKHttYXhXaWR0aDogJzEwMCUnCiAgICAgICAgICAgIAogICAgICAgICAgICB9KTsKCiAgICAgICAgICAgIAogICAgICAgICAgICAgICAgdmFyIGh0bWxfOGI5YWYyYzllMzQ2NDQzZGJhNmNkNmRhMjFlM2UzYzcgPSAkKGA8ZGl2IGlkPSJodG1sXzhiOWFmMmM5ZTM0NjQ0M2RiYTZjZDZkYTIxZTNlM2M3IiBzdHlsZT0id2lkdGg6IDEwMC4wJTsgaGVpZ2h0OiAxMDAuMCU7Ij5Eb3dudG93biBUb3JvbnRvIC0gVG9yb250byBEb21pbmlvbiBDZW50cmUsIERlc2lnbiBFeGNoYW5nZTwvZGl2PmApWzBdOwogICAgICAgICAgICAgICAgcG9wdXBfOTYzMDhjMDUyZDE4NDFjNzgxMzhkNTA2M2E5NmM4YzYuc2V0Q29udGVudChodG1sXzhiOWFmMmM5ZTM0NjQ0M2RiYTZjZDZkYTIxZTNlM2M3KTsKICAgICAgICAgICAgCgogICAgICAgICAgICBjaXJjbGVfbWFya2VyXzM4YjNkNTZiODcyYjRiMjRhZGE5YTBmMDM5MWUzYjU0LmJpbmRQb3B1cChwb3B1cF85NjMwOGMwNTJkMTg0MWM3ODEzOGQ1MDYzYTk2YzhjNikKICAgICAgICAgICAgOwoKICAgICAgICAgICAgCiAgICAgICAgCiAgICAKICAgICAgICAgICAgdmFyIGNpcmNsZV9tYXJrZXJfZGFjMTllOWUxNWFjNDYwZjhkZTI0ZjQ2OTA2MTkxYWUgPSBMLmNpcmNsZU1hcmtlcigKICAgICAgICAgICAgICAgIFs0My42NDgxOTg1LCAtNzkuMzc5ODE2OTAwMDAwMDJdLAogICAgICAgICAgICAgICAgewogICJidWJibGluZ01vdXNlRXZlbnRzIjogdHJ1ZSwKICAiY29sb3IiOiAiI0I3QUFFOSIsCiAgImRhc2hBcnJheSI6IG51bGwsCiAgImRhc2hPZmZzZXQiOiBudWxsLAogICJmaWxsIjogdHJ1ZSwKICAiZmlsbENvbG9yIjogIiNCN0FBRTkiLAogICJmaWxsT3BhY2l0eSI6IDAuNywKICAiZmlsbFJ1bGUiOiAiZXZlbm9kZCIsCiAgImxpbmVDYXAiOiAicm91bmQiLAogICJsaW5lSm9pbiI6ICJyb3VuZCIsCiAgIm9wYWNpdHkiOiAxLjAsCiAgInJhZGl1cyI6IDUsCiAgInN0cm9rZSI6IHRydWUsCiAgIndlaWdodCI6IDMKfQogICAgICAgICAgICAgICAgKQogICAgICAgICAgICAgICAgLmFkZFRvKG1hcF9mNWM0NjgxOTU5YTE0ZTlkYTg0MTYxMjgzYmUyMmQzNSk7CiAgICAgICAgICAgIAogICAgCiAgICAgICAgICAgIHZhciBwb3B1cF82ZWUzNGY1YzhjMDM0NjBkOWJlYTkzZDA4MWYxMTg0YyA9IEwucG9wdXAoe21heFdpZHRoOiAnMTAwJScKICAgICAgICAgICAgCiAgICAgICAgICAgIH0pOwoKICAgICAgICAgICAgCiAgICAgICAgICAgICAgICB2YXIgaHRtbF84YjBlOTliNGY3ZGQ0YzdjODI0ZWM2NmQ2MzcyMTE4ZCA9ICQoYDxkaXYgaWQ9Imh0bWxfOGIwZTk5YjRmN2RkNGM3YzgyNGVjNjZkNjM3MjExOGQiIHN0eWxlPSJ3aWR0aDogMTAwLjAlOyBoZWlnaHQ6IDEwMC4wJTsiPkRvd250b3duIFRvcm9udG8gLSBDb21tZXJjZSBDb3VydCwgVmljdG9yaWEgSG90ZWw8L2Rpdj5gKVswXTsKICAgICAgICAgICAgICAgIHBvcHVwXzZlZTM0ZjVjOGMwMzQ2MGQ5YmVhOTNkMDgxZjExODRjLnNldENvbnRlbnQoaHRtbF84YjBlOTliNGY3ZGQ0YzdjODI0ZWM2NmQ2MzcyMTE4ZCk7CiAgICAgICAgICAgIAoKICAgICAgICAgICAgY2lyY2xlX21hcmtlcl9kYWMxOWU5ZTE1YWM0NjBmOGRlMjRmNDY5MDYxOTFhZS5iaW5kUG9wdXAocG9wdXBfNmVlMzRmNWM4YzAzNDYwZDliZWE5M2QwODFmMTE4NGMpCiAgICAgICAgICAgIDsKCiAgICAgICAgICAgIAogICAgICAgIAogICAgCiAgICAgICAgICAgIHZhciBjaXJjbGVfbWFya2VyXzExOTdhMGYzZWQwNDRjMjdiM2Q5YjEzMTI2NGY1NWNiID0gTC5jaXJjbGVNYXJrZXIoCiAgICAgICAgICAgICAgICBbNDMuNzExNjk0OCwgLTc5LjQxNjkzNTU5OTk5OTk5XSwKICAgICAgICAgICAgICAgIHsKICAiYnViYmxpbmdNb3VzZUV2ZW50cyI6IHRydWUsCiAgImNvbG9yIjogIiNEM0U4MzgiLAogICJkYXNoQXJyYXkiOiBudWxsLAogICJkYXNoT2Zmc2V0IjogbnVsbCwKICAiZmlsbCI6IHRydWUsCiAgImZpbGxDb2xvciI6ICIjRDNFODM4IiwKICAiZmlsbE9wYWNpdHkiOiAwLjcsCiAgImZpbGxSdWxlIjogImV2ZW5vZGQiLAogICJsaW5lQ2FwIjogInJvdW5kIiwKICAibGluZUpvaW4iOiAicm91bmQiLAogICJvcGFjaXR5IjogMS4wLAogICJyYWRpdXMiOiA1LAogICJzdHJva2UiOiB0cnVlLAogICJ3ZWlnaHQiOiAzCn0KICAgICAgICAgICAgICAgICkKICAgICAgICAgICAgICAgIC5hZGRUbyhtYXBfZjVjNDY4MTk1OWExNGU5ZGE4NDE2MTI4M2JlMjJkMzUpOwogICAgICAgICAgICAKICAgIAogICAgICAgICAgICB2YXIgcG9wdXBfYzQ2Njk3Y2Y0NTY2NDJmZGI4M2JiMWQxZWJlYjQxOTMgPSBMLnBvcHVwKHttYXhXaWR0aDogJzEwMCUnCiAgICAgICAgICAgIAogICAgICAgICAgICB9KTsKCiAgICAgICAgICAgIAogICAgICAgICAgICAgICAgdmFyIGh0bWxfZWJhOTNiNzVlNjNjNGMxN2IyMjE5Y2MwNWU3OWUwZWMgPSAkKGA8ZGl2IGlkPSJodG1sX2ViYTkzYjc1ZTYzYzRjMTdiMjIxOWNjMDVlNzllMGVjIiBzdHlsZT0id2lkdGg6IDEwMC4wJTsgaGVpZ2h0OiAxMDAuMCU7Ij5DZW50cmFsIFRvcm9udG8gLSBSb3NlbGF3bjwvZGl2PmApWzBdOwogICAgICAgICAgICAgICAgcG9wdXBfYzQ2Njk3Y2Y0NTY2NDJmZGI4M2JiMWQxZWJlYjQxOTMuc2V0Q29udGVudChodG1sX2ViYTkzYjc1ZTYzYzRjMTdiMjIxOWNjMDVlNzllMGVjKTsKICAgICAgICAgICAgCgogICAgICAgICAgICBjaXJjbGVfbWFya2VyXzExOTdhMGYzZWQwNDRjMjdiM2Q5YjEzMTI2NGY1NWNiLmJpbmRQb3B1cChwb3B1cF9jNDY2OTdjZjQ1NjY0MmZkYjgzYmIxZDFlYmViNDE5MykKICAgICAgICAgICAgOwoKICAgICAgICAgICAgCiAgICAgICAgCiAgICAKICAgICAgICAgICAgdmFyIGNpcmNsZV9tYXJrZXJfZTM2N2M5OTU3NGI5NDkwZWFmOGUzZjA2NmZkNjhjZDMgPSBMLmNpcmNsZU1hcmtlcigKICAgICAgICAgICAgICAgIFs0My42OTY5NDc2LCAtNzkuNDExMzA3MjAwMDAwMDJdLAogICAgICAgICAgICAgICAgewogICJidWJibGluZ01vdXNlRXZlbnRzIjogdHJ1ZSwKICAiY29sb3IiOiAiI0QzRTgzOCIsCiAgImRhc2hBcnJheSI6IG51bGwsCiAgImRhc2hPZmZzZXQiOiBudWxsLAogICJmaWxsIjogdHJ1ZSwKICAiZmlsbENvbG9yIjogIiNEM0U4MzgiLAogICJmaWxsT3BhY2l0eSI6IDAuNywKICAiZmlsbFJ1bGUiOiAiZXZlbm9kZCIsCiAgImxpbmVDYXAiOiAicm91bmQiLAogICJsaW5lSm9pbiI6ICJyb3VuZCIsCiAgIm9wYWNpdHkiOiAxLjAsCiAgInJhZGl1cyI6IDUsCiAgInN0cm9rZSI6IHRydWUsCiAgIndlaWdodCI6IDMKfQogICAgICAgICAgICAgICAgKQogICAgICAgICAgICAgICAgLmFkZFRvKG1hcF9mNWM0NjgxOTU5YTE0ZTlkYTg0MTYxMjgzYmUyMmQzNSk7CiAgICAgICAgICAgIAogICAgCiAgICAgICAgICAgIHZhciBwb3B1cF8yMjM3M2U3ZjUwYzM0N2YzYWRkNWRkMzMwYzdjNDAxNiA9IEwucG9wdXAoe21heFdpZHRoOiAnMTAwJScKICAgICAgICAgICAgCiAgICAgICAgICAgIH0pOwoKICAgICAgICAgICAgCiAgICAgICAgICAgICAgICB2YXIgaHRtbF83ZmZhMGRkODcyMzk0YzhhOTUxNTM5OTQyMzc0NzYzZCA9ICQoYDxkaXYgaWQ9Imh0bWxfN2ZmYTBkZDg3MjM5NGM4YTk1MTUzOTk0MjM3NDc2M2QiIHN0eWxlPSJ3aWR0aDogMTAwLjAlOyBoZWlnaHQ6IDEwMC4wJTsiPkNlbnRyYWwgVG9yb250byAtIEZvcmVzdCBIaWxsIE5vcnRoICYgV2VzdCwgRm9yZXN0IEhpbGwgUm9hZCBQYXJrPC9kaXY+YClbMF07CiAgICAgICAgICAgICAgICBwb3B1cF8yMjM3M2U3ZjUwYzM0N2YzYWRkNWRkMzMwYzdjNDAxNi5zZXRDb250ZW50KGh0bWxfN2ZmYTBkZDg3MjM5NGM4YTk1MTUzOTk0MjM3NDc2M2QpOwogICAgICAgICAgICAKCiAgICAgICAgICAgIGNpcmNsZV9tYXJrZXJfZTM2N2M5OTU3NGI5NDkwZWFmOGUzZjA2NmZkNjhjZDMuYmluZFBvcHVwKHBvcHVwXzIyMzczZTdmNTBjMzQ3ZjNhZGQ1ZGQzMzBjN2M0MDE2KQogICAgICAgICAgICA7CgogICAgICAgICAgICAKICAgICAgICAKICAgIAogICAgICAgICAgICB2YXIgY2lyY2xlX21hcmtlcl9lZDg0MjcwODUzZGY0Y2Q3YmU3MGFmNTE2NTM4ZjEzMSA9IEwuY2lyY2xlTWFya2VyKAogICAgICAgICAgICAgICAgWzQzLjY3MjcwOTcsIC03OS40MDU2Nzg0MDAwMDAwMV0sCiAgICAgICAgICAgICAgICB7CiAgImJ1YmJsaW5nTW91c2VFdmVudHMiOiB0cnVlLAogICJjb2xvciI6ICIjRDNFODM4IiwKICAiZGFzaEFycmF5IjogbnVsbCwKICAiZGFzaE9mZnNldCI6IG51bGwsCiAgImZpbGwiOiB0cnVlLAogICJmaWxsQ29sb3IiOiAiI0QzRTgzOCIsCiAgImZpbGxPcGFjaXR5IjogMC43LAogICJmaWxsUnVsZSI6ICJldmVub2RkIiwKICAibGluZUNhcCI6ICJyb3VuZCIsCiAgImxpbmVKb2luIjogInJvdW5kIiwKICAib3BhY2l0eSI6IDEuMCwKICAicmFkaXVzIjogNSwKICAic3Ryb2tlIjogdHJ1ZSwKICAid2VpZ2h0IjogMwp9CiAgICAgICAgICAgICAgICApCiAgICAgICAgICAgICAgICAuYWRkVG8obWFwX2Y1YzQ2ODE5NTlhMTRlOWRhODQxNjEyODNiZTIyZDM1KTsKICAgICAgICAgICAgCiAgICAKICAgICAgICAgICAgdmFyIHBvcHVwXzczMzA1ODA1ZGU3YzQ2NjdhNjBjMzQzYjA5M2Q2Y2E2ID0gTC5wb3B1cCh7bWF4V2lkdGg6ICcxMDAlJwogICAgICAgICAgICAKICAgICAgICAgICAgfSk7CgogICAgICAgICAgICAKICAgICAgICAgICAgICAgIHZhciBodG1sXzgzY2IwODkxNTMyMTRiMTk5Y2NjOTdiZjhkYmVkZTk4ID0gJChgPGRpdiBpZD0iaHRtbF84M2NiMDg5MTUzMjE0YjE5OWNjYzk3YmY4ZGJlZGU5OCIgc3R5bGU9IndpZHRoOiAxMDAuMCU7IGhlaWdodDogMTAwLjAlOyI+Q2VudHJhbCBUb3JvbnRvIC0gVGhlIEFubmV4LCBOb3J0aCBNaWR0b3duLCBZb3JrdmlsbGU8L2Rpdj5gKVswXTsKICAgICAgICAgICAgICAgIHBvcHVwXzczMzA1ODA1ZGU3YzQ2NjdhNjBjMzQzYjA5M2Q2Y2E2LnNldENvbnRlbnQoaHRtbF84M2NiMDg5MTUzMjE0YjE5OWNjYzk3YmY4ZGJlZGU5OCk7CiAgICAgICAgICAgIAoKICAgICAgICAgICAgY2lyY2xlX21hcmtlcl9lZDg0MjcwODUzZGY0Y2Q3YmU3MGFmNTE2NTM4ZjEzMS5iaW5kUG9wdXAocG9wdXBfNzMzMDU4MDVkZTdjNDY2N2E2MGMzNDNiMDkzZDZjYTYpCiAgICAgICAgICAgIDsKCiAgICAgICAgICAgIAogICAgICAgIAogICAgCiAgICAgICAgICAgIHZhciBjaXJjbGVfbWFya2VyX2I3NzU0NGEwYzQwZDQ5ZTRiYzE1OTQwMWI4ZGEwYTlhID0gTC5jaXJjbGVNYXJrZXIoCiAgICAgICAgICAgICAgICBbNDMuNjYyNjk1NiwgLTc5LjQwMDA0OTNdLAogICAgICAgICAgICAgICAgewogICJidWJibGluZ01vdXNlRXZlbnRzIjogdHJ1ZSwKICAiY29sb3IiOiAiI0I3QUFFOSIsCiAgImRhc2hBcnJheSI6IG51bGwsCiAgImRhc2hPZmZzZXQiOiBudWxsLAogICJmaWxsIjogdHJ1ZSwKICAiZmlsbENvbG9yIjogIiNCN0FBRTkiLAogICJmaWxsT3BhY2l0eSI6IDAuNywKICAiZmlsbFJ1bGUiOiAiZXZlbm9kZCIsCiAgImxpbmVDYXAiOiAicm91bmQiLAogICJsaW5lSm9pbiI6ICJyb3VuZCIsCiAgIm9wYWNpdHkiOiAxLjAsCiAgInJhZGl1cyI6IDUsCiAgInN0cm9rZSI6IHRydWUsCiAgIndlaWdodCI6IDMKfQogICAgICAgICAgICAgICAgKQogICAgICAgICAgICAgICAgLmFkZFRvKG1hcF9mNWM0NjgxOTU5YTE0ZTlkYTg0MTYxMjgzYmUyMmQzNSk7CiAgICAgICAgICAgIAogICAgCiAgICAgICAgICAgIHZhciBwb3B1cF85ZDQ4OGM1ZDEyZjk0OTczOTljMTAwYWE3MjNkMGU5NiA9IEwucG9wdXAoe21heFdpZHRoOiAnMTAwJScKICAgICAgICAgICAgCiAgICAgICAgICAgIH0pOwoKICAgICAgICAgICAgCiAgICAgICAgICAgICAgICB2YXIgaHRtbF8wZDY4ZTRiYjc1NWU0N2NiYTJkNDE2YTRiMTAwYjc3ZSA9ICQoYDxkaXYgaWQ9Imh0bWxfMGQ2OGU0YmI3NTVlNDdjYmEyZDQxNmE0YjEwMGI3N2UiIHN0eWxlPSJ3aWR0aDogMTAwLjAlOyBoZWlnaHQ6IDEwMC4wJTsiPkRvd250b3duIFRvcm9udG8gLSBVbml2ZXJzaXR5IG9mIFRvcm9udG8sIEhhcmJvcmQ8L2Rpdj5gKVswXTsKICAgICAgICAgICAgICAgIHBvcHVwXzlkNDg4YzVkMTJmOTQ5NzM5OWMxMDBhYTcyM2QwZTk2LnNldENvbnRlbnQoaHRtbF8wZDY4ZTRiYjc1NWU0N2NiYTJkNDE2YTRiMTAwYjc3ZSk7CiAgICAgICAgICAgIAoKICAgICAgICAgICAgY2lyY2xlX21hcmtlcl9iNzc1NDRhMGM0MGQ0OWU0YmMxNTk0MDFiOGRhMGE5YS5iaW5kUG9wdXAocG9wdXBfOWQ0ODhjNWQxMmY5NDk3Mzk5YzEwMGFhNzIzZDBlOTYpCiAgICAgICAgICAgIDsKCiAgICAgICAgICAgIAogICAgICAgIAogICAgCiAgICAgICAgICAgIHZhciBjaXJjbGVfbWFya2VyXzdkNDlkMDZhOGVmZTQ0ODQ4OWJiODgzNzU4YmE4ZjA2ID0gTC5jaXJjbGVNYXJrZXIoCiAgICAgICAgICAgICAgICBbNDMuNjUzMjA1NywgLTc5LjQwMDA0OTNdLAogICAgICAgICAgICAgICAgewogICJidWJibGluZ01vdXNlRXZlbnRzIjogdHJ1ZSwKICAiY29sb3IiOiAiI0I3QUFFOSIsCiAgImRhc2hBcnJheSI6IG51bGwsCiAgImRhc2hPZmZzZXQiOiBudWxsLAogICJmaWxsIjogdHJ1ZSwKICAiZmlsbENvbG9yIjogIiNCN0FBRTkiLAogICJmaWxsT3BhY2l0eSI6IDAuNywKICAiZmlsbFJ1bGUiOiAiZXZlbm9kZCIsCiAgImxpbmVDYXAiOiAicm91bmQiLAogICJsaW5lSm9pbiI6ICJyb3VuZCIsCiAgIm9wYWNpdHkiOiAxLjAsCiAgInJhZGl1cyI6IDUsCiAgInN0cm9rZSI6IHRydWUsCiAgIndlaWdodCI6IDMKfQogICAgICAgICAgICAgICAgKQogICAgICAgICAgICAgICAgLmFkZFRvKG1hcF9mNWM0NjgxOTU5YTE0ZTlkYTg0MTYxMjgzYmUyMmQzNSk7CiAgICAgICAgICAgIAogICAgCiAgICAgICAgICAgIHZhciBwb3B1cF81NjRiYjU3YzlhZjM0OWYyYmE1MjNjODViMDQzZDY0ZiA9IEwucG9wdXAoe21heFdpZHRoOiAnMTAwJScKICAgICAgICAgICAgCiAgICAgICAgICAgIH0pOwoKICAgICAgICAgICAgCiAgICAgICAgICAgICAgICB2YXIgaHRtbF9iYzRmN2QzNjFhY2Q0ZjNkYTM4ZTgyMWIwYzMxNGFhYSA9ICQoYDxkaXYgaWQ9Imh0bWxfYmM0ZjdkMzYxYWNkNGYzZGEzOGU4MjFiMGMzMTRhYWEiIHN0eWxlPSJ3aWR0aDogMTAwLjAlOyBoZWlnaHQ6IDEwMC4wJTsiPkRvd250b3duIFRvcm9udG8gLSBLZW5zaW5ndG9uIE1hcmtldCwgQ2hpbmF0b3duLCBHcmFuZ2UgUGFyazwvZGl2PmApWzBdOwogICAgICAgICAgICAgICAgcG9wdXBfNTY0YmI1N2M5YWYzNDlmMmJhNTIzYzg1YjA0M2Q2NGYuc2V0Q29udGVudChodG1sX2JjNGY3ZDM2MWFjZDRmM2RhMzhlODIxYjBjMzE0YWFhKTsKICAgICAgICAgICAgCgogICAgICAgICAgICBjaXJjbGVfbWFya2VyXzdkNDlkMDZhOGVmZTQ0ODQ4OWJiODgzNzU4YmE4ZjA2LmJpbmRQb3B1cChwb3B1cF81NjRiYjU3YzlhZjM0OWYyYmE1MjNjODViMDQzZDY0ZikKICAgICAgICAgICAgOwoKICAgICAgICAgICAgCiAgICAgICAgCiAgICAKICAgICAgICAgICAgdmFyIGNpcmNsZV9tYXJrZXJfNDQ3OTVjMjVhZTAwNDM3N2I3MzE2YjkyNDNjMmJkZTIgPSBMLmNpcmNsZU1hcmtlcigKICAgICAgICAgICAgICAgIFs0My42Mjg5NDY3LCAtNzkuMzk0NDE5OV0sCiAgICAgICAgICAgICAgICB7CiAgImJ1YmJsaW5nTW91c2VFdmVudHMiOiB0cnVlLAogICJjb2xvciI6ICIjQjdBQUU5IiwKICAiZGFzaEFycmF5IjogbnVsbCwKICAiZGFzaE9mZnNldCI6IG51bGwsCiAgImZpbGwiOiB0cnVlLAogICJmaWxsQ29sb3IiOiAiI0I3QUFFOSIsCiAgImZpbGxPcGFjaXR5IjogMC43LAogICJmaWxsUnVsZSI6ICJldmVub2RkIiwKICAibGluZUNhcCI6ICJyb3VuZCIsCiAgImxpbmVKb2luIjogInJvdW5kIiwKICAib3BhY2l0eSI6IDEuMCwKICAicmFkaXVzIjogNSwKICAic3Ryb2tlIjogdHJ1ZSwKICAid2VpZ2h0IjogMwp9CiAgICAgICAgICAgICAgICApCiAgICAgICAgICAgICAgICAuYWRkVG8obWFwX2Y1YzQ2ODE5NTlhMTRlOWRhODQxNjEyODNiZTIyZDM1KTsKICAgICAgICAgICAgCiAgICAKICAgICAgICAgICAgdmFyIHBvcHVwXzg0MzFmYTJkZGU5MTRlODliZjc4YTNmZTMzYWZkMGIzID0gTC5wb3B1cCh7bWF4V2lkdGg6ICcxMDAlJwogICAgICAgICAgICAKICAgICAgICAgICAgfSk7CgogICAgICAgICAgICAKICAgICAgICAgICAgICAgIHZhciBodG1sX2Y3NWZkNDI3ZTdmNTQxNDRhZWU3NjA5NjFmODU3YjFmID0gJChgPGRpdiBpZD0iaHRtbF9mNzVmZDQyN2U3ZjU0MTQ0YWVlNzYwOTYxZjg1N2IxZiIgc3R5bGU9IndpZHRoOiAxMDAuMCU7IGhlaWdodDogMTAwLjAlOyI+RG93bnRvd24gVG9yb250byAtIENOIFRvd2VyLCBLaW5nIGFuZCBTcGFkaW5hLCBSYWlsd2F5IExhbmRzLCBIYXJib3VyZnJvbnQgV2VzdCwgQmF0aHVyc3QgUXVheSwgU291dGggTmlhZ2FyYSwgSXNsYW5kIGFpcnBvcnQ8L2Rpdj5gKVswXTsKICAgICAgICAgICAgICAgIHBvcHVwXzg0MzFmYTJkZGU5MTRlODliZjc4YTNmZTMzYWZkMGIzLnNldENvbnRlbnQoaHRtbF9mNzVmZDQyN2U3ZjU0MTQ0YWVlNzYwOTYxZjg1N2IxZik7CiAgICAgICAgICAgIAoKICAgICAgICAgICAgY2lyY2xlX21hcmtlcl80NDc5NWMyNWFlMDA0Mzc3YjczMTZiOTI0M2MyYmRlMi5iaW5kUG9wdXAocG9wdXBfODQzMWZhMmRkZTkxNGU4OWJmNzhhM2ZlMzNhZmQwYjMpCiAgICAgICAgICAgIDsKCiAgICAgICAgICAgIAogICAgICAgIAogICAgCiAgICAgICAgICAgIHZhciBjaXJjbGVfbWFya2VyXzMzZTcyYTcwMzNkNzRmMjZiODEyNWUzM2ZjNjg3NTZjID0gTC5jaXJjbGVNYXJrZXIoCiAgICAgICAgICAgICAgICBbNDMuNjQ2NDM1MiwgLTc5LjM3NDg0NTk5OTk5OTk4XSwKICAgICAgICAgICAgICAgIHsKICAiYnViYmxpbmdNb3VzZUV2ZW50cyI6IHRydWUsCiAgImNvbG9yIjogIiNCN0FBRTkiLAogICJkYXNoQXJyYXkiOiBudWxsLAogICJkYXNoT2Zmc2V0IjogbnVsbCwKICAiZmlsbCI6IHRydWUsCiAgImZpbGxDb2xvciI6ICIjQjdBQUU5IiwKICAiZmlsbE9wYWNpdHkiOiAwLjcsCiAgImZpbGxSdWxlIjogImV2ZW5vZGQiLAogICJsaW5lQ2FwIjogInJvdW5kIiwKICAibGluZUpvaW4iOiAicm91bmQiLAogICJvcGFjaXR5IjogMS4wLAogICJyYWRpdXMiOiA1LAogICJzdHJva2UiOiB0cnVlLAogICJ3ZWlnaHQiOiAzCn0KICAgICAgICAgICAgICAgICkKICAgICAgICAgICAgICAgIC5hZGRUbyhtYXBfZjVjNDY4MTk1OWExNGU5ZGE4NDE2MTI4M2JlMjJkMzUpOwogICAgICAgICAgICAKICAgIAogICAgICAgICAgICB2YXIgcG9wdXBfMTk3ZTg1MTg2YTIxNGYwNGJhN2EwOTkyZmE5NDQyNmUgPSBMLnBvcHVwKHttYXhXaWR0aDogJzEwMCUnCiAgICAgICAgICAgIAogICAgICAgICAgICB9KTsKCiAgICAgICAgICAgIAogICAgICAgICAgICAgICAgdmFyIGh0bWxfMWM2YWY5ZWU5OGViNDljM2JkNWNiNWY4OTIwMWE1N2IgPSAkKGA8ZGl2IGlkPSJodG1sXzFjNmFmOWVlOThlYjQ5YzNiZDVjYjVmODkyMDFhNTdiIiBzdHlsZT0id2lkdGg6IDEwMC4wJTsgaGVpZ2h0OiAxMDAuMCU7Ij5Eb3dudG93biBUb3JvbnRvIC0gU3RuIEEgUE8gQm94ZXM8L2Rpdj5gKVswXTsKICAgICAgICAgICAgICAgIHBvcHVwXzE5N2U4NTE4NmEyMTRmMDRiYTdhMDk5MmZhOTQ0MjZlLnNldENvbnRlbnQoaHRtbF8xYzZhZjllZTk4ZWI0OWMzYmQ1Y2I1Zjg5MjAxYTU3Yik7CiAgICAgICAgICAgIAoKICAgICAgICAgICAgY2lyY2xlX21hcmtlcl8zM2U3MmE3MDMzZDc0ZjI2YjgxMjVlMzNmYzY4NzU2Yy5iaW5kUG9wdXAocG9wdXBfMTk3ZTg1MTg2YTIxNGYwNGJhN2EwOTkyZmE5NDQyNmUpCiAgICAgICAgICAgIDsKCiAgICAgICAgICAgIAogICAgICAgIAogICAgCiAgICAgICAgICAgIHZhciBjaXJjbGVfbWFya2VyXzI4MDRkMWI4NzJiMjQ2OTNiZWE1ODU3ZjUxNDYyYmY4ID0gTC5jaXJjbGVNYXJrZXIoCiAgICAgICAgICAgICAgICBbNDMuNjQ4NDI5MiwgLTc5LjM4MjI4MDJdLAogICAgICAgICAgICAgICAgewogICJidWJibGluZ01vdXNlRXZlbnRzIjogdHJ1ZSwKICAiY29sb3IiOiAiI0I3QUFFOSIsCiAgImRhc2hBcnJheSI6IG51bGwsCiAgImRhc2hPZmZzZXQiOiBudWxsLAogICJmaWxsIjogdHJ1ZSwKICAiZmlsbENvbG9yIjogIiNCN0FBRTkiLAogICJmaWxsT3BhY2l0eSI6IDAuNywKICAiZmlsbFJ1bGUiOiAiZXZlbm9kZCIsCiAgImxpbmVDYXAiOiAicm91bmQiLAogICJsaW5lSm9pbiI6ICJyb3VuZCIsCiAgIm9wYWNpdHkiOiAxLjAsCiAgInJhZGl1cyI6IDUsCiAgInN0cm9rZSI6IHRydWUsCiAgIndlaWdodCI6IDMKfQogICAgICAgICAgICAgICAgKQogICAgICAgICAgICAgICAgLmFkZFRvKG1hcF9mNWM0NjgxOTU5YTE0ZTlkYTg0MTYxMjgzYmUyMmQzNSk7CiAgICAgICAgICAgIAogICAgCiAgICAgICAgICAgIHZhciBwb3B1cF81NDUyZDJjM2EyZTI0NDE3ODRhMDFmMzc5NDMzZDNiNiA9IEwucG9wdXAoe21heFdpZHRoOiAnMTAwJScKICAgICAgICAgICAgCiAgICAgICAgICAgIH0pOwoKICAgICAgICAgICAgCiAgICAgICAgICAgICAgICB2YXIgaHRtbF8wYjA1OWZhMzkyZDk0M2NiODQ2ZTA1NzRhZDk3ZjdjMiA9ICQoYDxkaXYgaWQ9Imh0bWxfMGIwNTlmYTM5MmQ5NDNjYjg0NmUwNTc0YWQ5N2Y3YzIiIHN0eWxlPSJ3aWR0aDogMTAwLjAlOyBoZWlnaHQ6IDEwMC4wJTsiPkRvd250b3duIFRvcm9udG8gLSBGaXJzdCBDYW5hZGlhbiBQbGFjZSwgVW5kZXJncm91bmQgY2l0eTwvZGl2PmApWzBdOwogICAgICAgICAgICAgICAgcG9wdXBfNTQ1MmQyYzNhMmUyNDQxNzg0YTAxZjM3OTQzM2QzYjYuc2V0Q29udGVudChodG1sXzBiMDU5ZmEzOTJkOTQzY2I4NDZlMDU3NGFkOTdmN2MyKTsKICAgICAgICAgICAgCgogICAgICAgICAgICBjaXJjbGVfbWFya2VyXzI4MDRkMWI4NzJiMjQ2OTNiZWE1ODU3ZjUxNDYyYmY4LmJpbmRQb3B1cChwb3B1cF81NDUyZDJjM2EyZTI0NDE3ODRhMDFmMzc5NDMzZDNiNikKICAgICAgICAgICAgOwoKICAgICAgICAgICAgCiAgICAgICAgCiAgICAKICAgICAgICAgICAgdmFyIGNpcmNsZV9tYXJrZXJfZmQzNjZkZjFhMTgyNGMyNGFhYTVmMTM2M2I0Y2M0ZDUgPSBMLmNpcmNsZU1hcmtlcigKICAgICAgICAgICAgICAgIFs0My42Njk1NDIsIC03OS40MjI1NjM3XSwKICAgICAgICAgICAgICAgIHsKICAiYnViYmxpbmdNb3VzZUV2ZW50cyI6IHRydWUsCiAgImNvbG9yIjogIiNCN0FBRTkiLAogICJkYXNoQXJyYXkiOiBudWxsLAogICJkYXNoT2Zmc2V0IjogbnVsbCwKICAiZmlsbCI6IHRydWUsCiAgImZpbGxDb2xvciI6ICIjQjdBQUU5IiwKICAiZmlsbE9wYWNpdHkiOiAwLjcsCiAgImZpbGxSdWxlIjogImV2ZW5vZGQiLAogICJsaW5lQ2FwIjogInJvdW5kIiwKICAibGluZUpvaW4iOiAicm91bmQiLAogICJvcGFjaXR5IjogMS4wLAogICJyYWRpdXMiOiA1LAogICJzdHJva2UiOiB0cnVlLAogICJ3ZWlnaHQiOiAzCn0KICAgICAgICAgICAgICAgICkKICAgICAgICAgICAgICAgIC5hZGRUbyhtYXBfZjVjNDY4MTk1OWExNGU5ZGE4NDE2MTI4M2JlMjJkMzUpOwogICAgICAgICAgICAKICAgIAogICAgICAgICAgICB2YXIgcG9wdXBfMTQxYmEzZDJlNWNkNDhmMWE3YjM1OGU5MGI4ODVjNjAgPSBMLnBvcHVwKHttYXhXaWR0aDogJzEwMCUnCiAgICAgICAgICAgIAogICAgICAgICAgICB9KTsKCiAgICAgICAgICAgIAogICAgICAgICAgICAgICAgdmFyIGh0bWxfZWExNGRjNjVkZDEyNDcwNDk4ZGE5ZDA0M2ZlYjc4MzIgPSAkKGA8ZGl2IGlkPSJodG1sX2VhMTRkYzY1ZGQxMjQ3MDQ5OGRhOWQwNDNmZWI3ODMyIiBzdHlsZT0id2lkdGg6IDEwMC4wJTsgaGVpZ2h0OiAxMDAuMCU7Ij5Eb3dudG93biBUb3JvbnRvIC0gQ2hyaXN0aWU8L2Rpdj5gKVswXTsKICAgICAgICAgICAgICAgIHBvcHVwXzE0MWJhM2QyZTVjZDQ4ZjFhN2IzNThlOTBiODg1YzYwLnNldENvbnRlbnQoaHRtbF9lYTE0ZGM2NWRkMTI0NzA0OThkYTlkMDQzZmViNzgzMik7CiAgICAgICAgICAgIAoKICAgICAgICAgICAgY2lyY2xlX21hcmtlcl9mZDM2NmRmMWExODI0YzI0YWFhNWYxMzYzYjRjYzRkNS5iaW5kUG9wdXAocG9wdXBfMTQxYmEzZDJlNWNkNDhmMWE3YjM1OGU5MGI4ODVjNjApCiAgICAgICAgICAgIDsKCiAgICAgICAgICAgIAogICAgICAgIAogICAgCiAgICAgICAgICAgIHZhciBjaXJjbGVfbWFya2VyXzJiZWE0ZmE3YjU3ODRhZTg4YWEwYjE0ODllMzJiZGU5ID0gTC5jaXJjbGVNYXJrZXIoCiAgICAgICAgICAgICAgICBbNDMuNjY5MDA1MTAwMDAwMDEsIC03OS40NDIyNTkzXSwKICAgICAgICAgICAgICAgIHsKICAiYnViYmxpbmdNb3VzZUV2ZW50cyI6IHRydWUsCiAgImNvbG9yIjogIiMzODI0RkIiLAogICJkYXNoQXJyYXkiOiBudWxsLAogICJkYXNoT2Zmc2V0IjogbnVsbCwKICAiZmlsbCI6IHRydWUsCiAgImZpbGxDb2xvciI6ICIjMzgyNEZCIiwKICAiZmlsbE9wYWNpdHkiOiAwLjcsCiAgImZpbGxSdWxlIjogImV2ZW5vZGQiLAogICJsaW5lQ2FwIjogInJvdW5kIiwKICAibGluZUpvaW4iOiAicm91bmQiLAogICJvcGFjaXR5IjogMS4wLAogICJyYWRpdXMiOiA1LAogICJzdHJva2UiOiB0cnVlLAogICJ3ZWlnaHQiOiAzCn0KICAgICAgICAgICAgICAgICkKICAgICAgICAgICAgICAgIC5hZGRUbyhtYXBfZjVjNDY4MTk1OWExNGU5ZGE4NDE2MTI4M2JlMjJkMzUpOwogICAgICAgICAgICAKICAgIAogICAgICAgICAgICB2YXIgcG9wdXBfYjhiMTk0OTU5ZmMyNGQ4YmI5Zjg0YmU1ZjM0MzRkMjggPSBMLnBvcHVwKHttYXhXaWR0aDogJzEwMCUnCiAgICAgICAgICAgIAogICAgICAgICAgICB9KTsKCiAgICAgICAgICAgIAogICAgICAgICAgICAgICAgdmFyIGh0bWxfMGY5NjI3MzVlNTYyNDJlNDliZWQ2YWNhYjE3OTYxZTUgPSAkKGA8ZGl2IGlkPSJodG1sXzBmOTYyNzM1ZTU2MjQyZTQ5YmVkNmFjYWIxNzk2MWU1IiBzdHlsZT0id2lkdGg6IDEwMC4wJTsgaGVpZ2h0OiAxMDAuMCU7Ij5XZXN0IFRvcm9udG8gLSBEdWZmZXJpbiwgRG92ZXJjb3VydCBWaWxsYWdlPC9kaXY+YClbMF07CiAgICAgICAgICAgICAgICBwb3B1cF9iOGIxOTQ5NTlmYzI0ZDhiYjlmODRiZTVmMzQzNGQyOC5zZXRDb250ZW50KGh0bWxfMGY5NjI3MzVlNTYyNDJlNDliZWQ2YWNhYjE3OTYxZTUpOwogICAgICAgICAgICAKCiAgICAgICAgICAgIGNpcmNsZV9tYXJrZXJfMmJlYTRmYTdiNTc4NGFlODhhYTBiMTQ4OWUzMmJkZTkuYmluZFBvcHVwKHBvcHVwX2I4YjE5NDk1OWZjMjRkOGJiOWY4NGJlNWYzNDM0ZDI4KQogICAgICAgICAgICA7CgogICAgICAgICAgICAKICAgICAgICAKICAgIAogICAgICAgICAgICB2YXIgY2lyY2xlX21hcmtlcl8yODQ2ZmRjMmU3ZWI0OTUzOTE5N2ZmOGQzYmIyMWZiNSA9IEwuY2lyY2xlTWFya2VyKAogICAgICAgICAgICAgICAgWzQzLjY0NzkyNjcwMDAwMDAwNiwgLTc5LjQxOTc0OTddLAogICAgICAgICAgICAgICAgewogICJidWJibGluZ01vdXNlRXZlbnRzIjogdHJ1ZSwKICAiY29sb3IiOiAiIzM4MjRGQiIsCiAgImRhc2hBcnJheSI6IG51bGwsCiAgImRhc2hPZmZzZXQiOiBudWxsLAogICJmaWxsIjogdHJ1ZSwKICAiZmlsbENvbG9yIjogIiMzODI0RkIiLAogICJmaWxsT3BhY2l0eSI6IDAuNywKICAiZmlsbFJ1bGUiOiAiZXZlbm9kZCIsCiAgImxpbmVDYXAiOiAicm91bmQiLAogICJsaW5lSm9pbiI6ICJyb3VuZCIsCiAgIm9wYWNpdHkiOiAxLjAsCiAgInJhZGl1cyI6IDUsCiAgInN0cm9rZSI6IHRydWUsCiAgIndlaWdodCI6IDMKfQogICAgICAgICAgICAgICAgKQogICAgICAgICAgICAgICAgLmFkZFRvKG1hcF9mNWM0NjgxOTU5YTE0ZTlkYTg0MTYxMjgzYmUyMmQzNSk7CiAgICAgICAgICAgIAogICAgCiAgICAgICAgICAgIHZhciBwb3B1cF83ZTg2NmM2MGVhNTM0OTgxODM4Nzk0MzAwMmQ2Mjg1NiA9IEwucG9wdXAoe21heFdpZHRoOiAnMTAwJScKICAgICAgICAgICAgCiAgICAgICAgICAgIH0pOwoKICAgICAgICAgICAgCiAgICAgICAgICAgICAgICB2YXIgaHRtbF83NzRjNDQ0NGI0ZGQ0NGQxOWYxZGU4Mjc0OWQzOGEyMCA9ICQoYDxkaXYgaWQ9Imh0bWxfNzc0YzQ0NDRiNGRkNDRkMTlmMWRlODI3NDlkMzhhMjAiIHN0eWxlPSJ3aWR0aDogMTAwLjAlOyBoZWlnaHQ6IDEwMC4wJTsiPldlc3QgVG9yb250byAtIExpdHRsZSBQb3J0dWdhbCwgVHJpbml0eTwvZGl2PmApWzBdOwogICAgICAgICAgICAgICAgcG9wdXBfN2U4NjZjNjBlYTUzNDk4MTgzODc5NDMwMDJkNjI4NTYuc2V0Q29udGVudChodG1sXzc3NGM0NDQ0YjRkZDQ0ZDE5ZjFkZTgyNzQ5ZDM4YTIwKTsKICAgICAgICAgICAgCgogICAgICAgICAgICBjaXJjbGVfbWFya2VyXzI4NDZmZGMyZTdlYjQ5NTM5MTk3ZmY4ZDNiYjIxZmI1LmJpbmRQb3B1cChwb3B1cF83ZTg2NmM2MGVhNTM0OTgxODM4Nzk0MzAwMmQ2Mjg1NikKICAgICAgICAgICAgOwoKICAgICAgICAgICAgCiAgICAgICAgCiAgICAKICAgICAgICAgICAgdmFyIGNpcmNsZV9tYXJrZXJfZjMwZGQ3MmI1MzM4NGEyYWFhNTg4NjE2MzA4OWRmNGIgPSBMLmNpcmNsZU1hcmtlcigKICAgICAgICAgICAgICAgIFs0My42MzY4NDcyLCAtNzkuNDI4MTkxNDAwMDAwMDJdLAogICAgICAgICAgICAgICAgewogICJidWJibGluZ01vdXNlRXZlbnRzIjogdHJ1ZSwKICAiY29sb3IiOiAiIzM4MjRGQiIsCiAgImRhc2hBcnJheSI6IG51bGwsCiAgImRhc2hPZmZzZXQiOiBudWxsLAogICJmaWxsIjogdHJ1ZSwKICAiZmlsbENvbG9yIjogIiMzODI0RkIiLAogICJmaWxsT3BhY2l0eSI6IDAuNywKICAiZmlsbFJ1bGUiOiAiZXZlbm9kZCIsCiAgImxpbmVDYXAiOiAicm91bmQiLAogICJsaW5lSm9pbiI6ICJyb3VuZCIsCiAgIm9wYWNpdHkiOiAxLjAsCiAgInJhZGl1cyI6IDUsCiAgInN0cm9rZSI6IHRydWUsCiAgIndlaWdodCI6IDMKfQogICAgICAgICAgICAgICAgKQogICAgICAgICAgICAgICAgLmFkZFRvKG1hcF9mNWM0NjgxOTU5YTE0ZTlkYTg0MTYxMjgzYmUyMmQzNSk7CiAgICAgICAgICAgIAogICAgCiAgICAgICAgICAgIHZhciBwb3B1cF9lODY4NTEzZmEzMWI0Y2EzOTQzYzM4NjYyMjkwZmYxZSA9IEwucG9wdXAoe21heFdpZHRoOiAnMTAwJScKICAgICAgICAgICAgCiAgICAgICAgICAgIH0pOwoKICAgICAgICAgICAgCiAgICAgICAgICAgICAgICB2YXIgaHRtbF8xYjk0MmQ0NTcwM2I0Zjc1OTIwODYyM2E2YWRiMThhMSA9ICQoYDxkaXYgaWQ9Imh0bWxfMWI5NDJkNDU3MDNiNGY3NTkyMDg2MjNhNmFkYjE4YTEiIHN0eWxlPSJ3aWR0aDogMTAwLjAlOyBoZWlnaHQ6IDEwMC4wJTsiPldlc3QgVG9yb250byAtIEJyb2NrdG9uLCBQYXJrZGFsZSBWaWxsYWdlLCBFeGhpYml0aW9uIFBsYWNlPC9kaXY+YClbMF07CiAgICAgICAgICAgICAgICBwb3B1cF9lODY4NTEzZmEzMWI0Y2EzOTQzYzM4NjYyMjkwZmYxZS5zZXRDb250ZW50KGh0bWxfMWI5NDJkNDU3MDNiNGY3NTkyMDg2MjNhNmFkYjE4YTEpOwogICAgICAgICAgICAKCiAgICAgICAgICAgIGNpcmNsZV9tYXJrZXJfZjMwZGQ3MmI1MzM4NGEyYWFhNTg4NjE2MzA4OWRmNGIuYmluZFBvcHVwKHBvcHVwX2U4Njg1MTNmYTMxYjRjYTM5NDNjMzg2NjIyOTBmZjFlKQogICAgICAgICAgICA7CgogICAgICAgICAgICAKICAgICAgICAKICAgIAogICAgICAgICAgICB2YXIgY2lyY2xlX21hcmtlcl8zZWY2ZmI0ZDYyNDI0ZmVkYWFkMzYxN2Q4Yzg1ZjE5OCA9IEwuY2lyY2xlTWFya2VyKAogICAgICAgICAgICAgICAgWzQzLjY2MTYwODMsIC03OS40NjQ3NjMyOTk5OTk5OV0sCiAgICAgICAgICAgICAgICB7CiAgImJ1YmJsaW5nTW91c2VFdmVudHMiOiB0cnVlLAogICJjb2xvciI6ICIjMzgyNEZCIiwKICAiZGFzaEFycmF5IjogbnVsbCwKICAiZGFzaE9mZnNldCI6IG51bGwsCiAgImZpbGwiOiB0cnVlLAogICJmaWxsQ29sb3IiOiAiIzM4MjRGQiIsCiAgImZpbGxPcGFjaXR5IjogMC43LAogICJmaWxsUnVsZSI6ICJldmVub2RkIiwKICAibGluZUNhcCI6ICJyb3VuZCIsCiAgImxpbmVKb2luIjogInJvdW5kIiwKICAib3BhY2l0eSI6IDEuMCwKICAicmFkaXVzIjogNSwKICAic3Ryb2tlIjogdHJ1ZSwKICAid2VpZ2h0IjogMwp9CiAgICAgICAgICAgICAgICApCiAgICAgICAgICAgICAgICAuYWRkVG8obWFwX2Y1YzQ2ODE5NTlhMTRlOWRhODQxNjEyODNiZTIyZDM1KTsKICAgICAgICAgICAgCiAgICAKICAgICAgICAgICAgdmFyIHBvcHVwXzgxM2Q1OGM1YTA2YzQ0NmM4YzI4ODc4NDA1ZGUxZWNmID0gTC5wb3B1cCh7bWF4V2lkdGg6ICcxMDAlJwogICAgICAgICAgICAKICAgICAgICAgICAgfSk7CgogICAgICAgICAgICAKICAgICAgICAgICAgICAgIHZhciBodG1sX2M2Y2VlMDU5YWQ4ODQ2ZDRhMjA4NWM2OWFjYWYzZjUwID0gJChgPGRpdiBpZD0iaHRtbF9jNmNlZTA1OWFkODg0NmQ0YTIwODVjNjlhY2FmM2Y1MCIgc3R5bGU9IndpZHRoOiAxMDAuMCU7IGhlaWdodDogMTAwLjAlOyI+V2VzdCBUb3JvbnRvIC0gSGlnaCBQYXJrLCBUaGUgSnVuY3Rpb24gU291dGg8L2Rpdj5gKVswXTsKICAgICAgICAgICAgICAgIHBvcHVwXzgxM2Q1OGM1YTA2YzQ0NmM4YzI4ODc4NDA1ZGUxZWNmLnNldENvbnRlbnQoaHRtbF9jNmNlZTA1OWFkODg0NmQ0YTIwODVjNjlhY2FmM2Y1MCk7CiAgICAgICAgICAgIAoKICAgICAgICAgICAgY2lyY2xlX21hcmtlcl8zZWY2ZmI0ZDYyNDI0ZmVkYWFkMzYxN2Q4Yzg1ZjE5OC5iaW5kUG9wdXAocG9wdXBfODEzZDU4YzVhMDZjNDQ2YzhjMjg4Nzg0MDVkZTFlY2YpCiAgICAgICAgICAgIDsKCiAgICAgICAgICAgIAogICAgICAgIAogICAgCiAgICAgICAgICAgIHZhciBjaXJjbGVfbWFya2VyXzY0NjgzNzk5ZWZmZDQyYjFiZTVhZjZhZTNiNmVkOTgyID0gTC5jaXJjbGVNYXJrZXIoCiAgICAgICAgICAgICAgICBbNDMuNjQ4OTU5NywgLTc5LjQ1NjMyNV0sCiAgICAgICAgICAgICAgICB7CiAgImJ1YmJsaW5nTW91c2VFdmVudHMiOiB0cnVlLAogICJjb2xvciI6ICIjMzgyNEZCIiwKICAiZGFzaEFycmF5IjogbnVsbCwKICAiZGFzaE9mZnNldCI6IG51bGwsCiAgImZpbGwiOiB0cnVlLAogICJmaWxsQ29sb3IiOiAiIzM4MjRGQiIsCiAgImZpbGxPcGFjaXR5IjogMC43LAogICJmaWxsUnVsZSI6ICJldmVub2RkIiwKICAibGluZUNhcCI6ICJyb3VuZCIsCiAgImxpbmVKb2luIjogInJvdW5kIiwKICAib3BhY2l0eSI6IDEuMCwKICAicmFkaXVzIjogNSwKICAic3Ryb2tlIjogdHJ1ZSwKICAid2VpZ2h0IjogMwp9CiAgICAgICAgICAgICAgICApCiAgICAgICAgICAgICAgICAuYWRkVG8obWFwX2Y1YzQ2ODE5NTlhMTRlOWRhODQxNjEyODNiZTIyZDM1KTsKICAgICAgICAgICAgCiAgICAKICAgICAgICAgICAgdmFyIHBvcHVwXzEyMzc2ZDNmNmYxYzQzZGQ4MGQ2ZDhkMmM5ZWUxMzVlID0gTC5wb3B1cCh7bWF4V2lkdGg6ICcxMDAlJwogICAgICAgICAgICAKICAgICAgICAgICAgfSk7CgogICAgICAgICAgICAKICAgICAgICAgICAgICAgIHZhciBodG1sXzRhNTA2MzUzN2I3NDQwZWRhYjE5MGNmYTNlZTdiM2U1ID0gJChgPGRpdiBpZD0iaHRtbF80YTUwNjM1MzdiNzQ0MGVkYWIxOTBjZmEzZWU3YjNlNSIgc3R5bGU9IndpZHRoOiAxMDAuMCU7IGhlaWdodDogMTAwLjAlOyI+V2VzdCBUb3JvbnRvIC0gUGFya2RhbGUsIFJvbmNlc3ZhbGxlczwvZGl2PmApWzBdOwogICAgICAgICAgICAgICAgcG9wdXBfMTIzNzZkM2Y2ZjFjNDNkZDgwZDZkOGQyYzllZTEzNWUuc2V0Q29udGVudChodG1sXzRhNTA2MzUzN2I3NDQwZWRhYjE5MGNmYTNlZTdiM2U1KTsKICAgICAgICAgICAgCgogICAgICAgICAgICBjaXJjbGVfbWFya2VyXzY0NjgzNzk5ZWZmZDQyYjFiZTVhZjZhZTNiNmVkOTgyLmJpbmRQb3B1cChwb3B1cF8xMjM3NmQzZjZmMWM0M2RkODBkNmQ4ZDJjOWVlMTM1ZSkKICAgICAgICAgICAgOwoKICAgICAgICAgICAgCiAgICAgICAgCiAgICAKICAgICAgICAgICAgdmFyIGNpcmNsZV9tYXJrZXJfOTQ1ZjVmNDM4MTQ1NGE1MWJhNzYwMzA5NGVjODQyZWIgPSBMLmNpcmNsZU1hcmtlcigKICAgICAgICAgICAgICAgIFs0My42NTE1NzA2LCAtNzkuNDg0NDQ5OV0sCiAgICAgICAgICAgICAgICB7CiAgImJ1YmJsaW5nTW91c2VFdmVudHMiOiB0cnVlLAogICJjb2xvciI6ICIjMzgyNEZCIiwKICAiZGFzaEFycmF5IjogbnVsbCwKICAiZGFzaE9mZnNldCI6IG51bGwsCiAgImZpbGwiOiB0cnVlLAogICJmaWxsQ29sb3IiOiAiIzM4MjRGQiIsCiAgImZpbGxPcGFjaXR5IjogMC43LAogICJmaWxsUnVsZSI6ICJldmVub2RkIiwKICAibGluZUNhcCI6ICJyb3VuZCIsCiAgImxpbmVKb2luIjogInJvdW5kIiwKICAib3BhY2l0eSI6IDEuMCwKICAicmFkaXVzIjogNSwKICAic3Ryb2tlIjogdHJ1ZSwKICAid2VpZ2h0IjogMwp9CiAgICAgICAgICAgICAgICApCiAgICAgICAgICAgICAgICAuYWRkVG8obWFwX2Y1YzQ2ODE5NTlhMTRlOWRhODQxNjEyODNiZTIyZDM1KTsKICAgICAgICAgICAgCiAgICAKICAgICAgICAgICAgdmFyIHBvcHVwXzRkNDIyYzg5ZDIyMjQzMWQ5Mzk3MmViYzQxYTYyZGYyID0gTC5wb3B1cCh7bWF4V2lkdGg6ICcxMDAlJwogICAgICAgICAgICAKICAgICAgICAgICAgfSk7CgogICAgICAgICAgICAKICAgICAgICAgICAgICAgIHZhciBodG1sXzk0NzM4NzE0MzQxODRhOGZiYjM4MGI2NDhlN2YwYjc2ID0gJChgPGRpdiBpZD0iaHRtbF85NDczODcxNDM0MTg0YThmYmIzODBiNjQ4ZTdmMGI3NiIgc3R5bGU9IndpZHRoOiAxMDAuMCU7IGhlaWdodDogMTAwLjAlOyI+V2VzdCBUb3JvbnRvIC0gUnVubnltZWRlLCBTd2Fuc2VhPC9kaXY+YClbMF07CiAgICAgICAgICAgICAgICBwb3B1cF80ZDQyMmM4OWQyMjI0MzFkOTM5NzJlYmM0MWE2MmRmMi5zZXRDb250ZW50KGh0bWxfOTQ3Mzg3MTQzNDE4NGE4ZmJiMzgwYjY0OGU3ZjBiNzYpOwogICAgICAgICAgICAKCiAgICAgICAgICAgIGNpcmNsZV9tYXJrZXJfOTQ1ZjVmNDM4MTQ1NGE1MWJhNzYwMzA5NGVjODQyZWIuYmluZFBvcHVwKHBvcHVwXzRkNDIyYzg5ZDIyMjQzMWQ5Mzk3MmViYzQxYTYyZGYyKQogICAgICAgICAgICA7CgogICAgICAgICAgICAKICAgICAgICAKICAgIAogICAgICAgICAgICB2YXIgY2lyY2xlX21hcmtlcl83Y2M1ZmRhNGI5NDE0OGQ4ODFmMWI3MzdjNGFlMzIzOCA9IEwuY2lyY2xlTWFya2VyKAogICAgICAgICAgICAgICAgWzQzLjY2MjMwMTUsIC03OS4zODk0OTM4XSwKICAgICAgICAgICAgICAgIHsKICAiYnViYmxpbmdNb3VzZUV2ZW50cyI6IHRydWUsCiAgImNvbG9yIjogIiNCN0FBRTkiLAogICJkYXNoQXJyYXkiOiBudWxsLAogICJkYXNoT2Zmc2V0IjogbnVsbCwKICAiZmlsbCI6IHRydWUsCiAgImZpbGxDb2xvciI6ICIjQjdBQUU5IiwKICAiZmlsbE9wYWNpdHkiOiAwLjcsCiAgImZpbGxSdWxlIjogImV2ZW5vZGQiLAogICJsaW5lQ2FwIjogInJvdW5kIiwKICAibGluZUpvaW4iOiAicm91bmQiLAogICJvcGFjaXR5IjogMS4wLAogICJyYWRpdXMiOiA1LAogICJzdHJva2UiOiB0cnVlLAogICJ3ZWlnaHQiOiAzCn0KICAgICAgICAgICAgICAgICkKICAgICAgICAgICAgICAgIC5hZGRUbyhtYXBfZjVjNDY4MTk1OWExNGU5ZGE4NDE2MTI4M2JlMjJkMzUpOwogICAgICAgICAgICAKICAgIAogICAgICAgICAgICB2YXIgcG9wdXBfMjI0ZTQ4NGI3MmQyNGZhZjhhZWFmMjFmNTY4Yzk0Y2UgPSBMLnBvcHVwKHttYXhXaWR0aDogJzEwMCUnCiAgICAgICAgICAgIAogICAgICAgICAgICB9KTsKCiAgICAgICAgICAgIAogICAgICAgICAgICAgICAgdmFyIGh0bWxfZjM2ZmQ5OGE2YmU0NDg3NmFlZGJhMTNlZmRlYWJhYzYgPSAkKGA8ZGl2IGlkPSJodG1sX2YzNmZkOThhNmJlNDQ4NzZhZWRiYTEzZWZkZWFiYWM2IiBzdHlsZT0id2lkdGg6IDEwMC4wJTsgaGVpZ2h0OiAxMDAuMCU7Ij5Eb3dudG93biBUb3JvbnRvIC0gUXVlZW4ncyBQYXJrLCBPbnRhcmlvIFByb3ZpbmNpYWwgR292ZXJubWVudDwvZGl2PmApWzBdOwogICAgICAgICAgICAgICAgcG9wdXBfMjI0ZTQ4NGI3MmQyNGZhZjhhZWFmMjFmNTY4Yzk0Y2Uuc2V0Q29udGVudChodG1sX2YzNmZkOThhNmJlNDQ4NzZhZWRiYTEzZWZkZWFiYWM2KTsKICAgICAgICAgICAgCgogICAgICAgICAgICBjaXJjbGVfbWFya2VyXzdjYzVmZGE0Yjk0MTQ4ZDg4MWYxYjczN2M0YWUzMjM4LmJpbmRQb3B1cChwb3B1cF8yMjRlNDg0YjcyZDI0ZmFmOGFlYWYyMWY1NjhjOTRjZSkKICAgICAgICAgICAgOwoKICAgICAgICAgICAgCiAgICAgICAgCiAgICAKICAgICAgICAgICAgdmFyIGNpcmNsZV9tYXJrZXJfN2M0NDRhYmFhOTI1NDg1N2IyODRkNTMwYzJjYTZmMDAgPSBMLmNpcmNsZU1hcmtlcigKICAgICAgICAgICAgICAgIFs0My42NjI3NDM5LCAtNzkuMzIxNTU4XSwKICAgICAgICAgICAgICAgIHsKICAiYnViYmxpbmdNb3VzZUV2ZW50cyI6IHRydWUsCiAgImNvbG9yIjogIiNBNEE0OUQiLAogICJkYXNoQXJyYXkiOiBudWxsLAogICJkYXNoT2Zmc2V0IjogbnVsbCwKICAiZmlsbCI6IHRydWUsCiAgImZpbGxDb2xvciI6ICIjQTRBNDlEIiwKICAiZmlsbE9wYWNpdHkiOiAwLjcsCiAgImZpbGxSdWxlIjogImV2ZW5vZGQiLAogICJsaW5lQ2FwIjogInJvdW5kIiwKICAibGluZUpvaW4iOiAicm91bmQiLAogICJvcGFjaXR5IjogMS4wLAogICJyYWRpdXMiOiA1LAogICJzdHJva2UiOiB0cnVlLAogICJ3ZWlnaHQiOiAzCn0KICAgICAgICAgICAgICAgICkKICAgICAgICAgICAgICAgIC5hZGRUbyhtYXBfZjVjNDY4MTk1OWExNGU5ZGE4NDE2MTI4M2JlMjJkMzUpOwogICAgICAgICAgICAKICAgIAogICAgICAgICAgICB2YXIgcG9wdXBfZGM3YzgwMGY1OGNjNDYyZThjMGQ3N2JmZmVlZmI0YmIgPSBMLnBvcHVwKHttYXhXaWR0aDogJzEwMCUnCiAgICAgICAgICAgIAogICAgICAgICAgICB9KTsKCiAgICAgICAgICAgIAogICAgICAgICAgICAgICAgdmFyIGh0bWxfZWZiZWU2NDRkZWRjNDZiYTllMGI0NDc5YmM2MTgwMGIgPSAkKGA8ZGl2IGlkPSJodG1sX2VmYmVlNjQ0ZGVkYzQ2YmE5ZTBiNDQ3OWJjNjE4MDBiIiBzdHlsZT0id2lkdGg6IDEwMC4wJTsgaGVpZ2h0OiAxMDAuMCU7Ij5FYXN0IFRvcm9udG8gLSBCdXNpbmVzcyByZXBseSBtYWlsIFByb2Nlc3NpbmcgQ2VudHJlLCBTb3V0aCBDZW50cmFsIExldHRlciBQcm9jZXNzaW5nIFBsYW50IFRvcm9udG88L2Rpdj5gKVswXTsKICAgICAgICAgICAgICAgIHBvcHVwX2RjN2M4MDBmNThjYzQ2MmU4YzBkNzdiZmZlZWZiNGJiLnNldENvbnRlbnQoaHRtbF9lZmJlZTY0NGRlZGM0NmJhOWUwYjQ0NzliYzYxODAwYik7CiAgICAgICAgICAgIAoKICAgICAgICAgICAgY2lyY2xlX21hcmtlcl83YzQ0NGFiYWE5MjU0ODU3YjI4NGQ1MzBjMmNhNmYwMC5iaW5kUG9wdXAocG9wdXBfZGM3YzgwMGY1OGNjNDYyZThjMGQ3N2JmZmVlZmI0YmIpCiAgICAgICAgICAgIDsKCiAgICAgICAgICAgIAogICAgICAgIAo8L3NjcmlwdD4= onload=\"this.contentDocument.open();this.contentDocument.write(atob(this.getAttribute('data-html')));this.contentDocument.close();\" allowfullscreen webkitallowfullscreen mozallowfullscreen></iframe></div></div>"
            ],
            "text/plain": [
              "<folium.folium.Map at 0x7fdd4d1c0f98>"
            ]
          },
          "metadata": {
            "tags": []
          },
          "execution_count": 45
        }
      ]
    },
    {
      "cell_type": "code",
      "metadata": {
        "id": "iH8g02zXmOJL",
        "colab_type": "code",
        "colab": {}
      },
      "source": [
        ""
      ],
      "execution_count": null,
      "outputs": []
    }
  ]
}